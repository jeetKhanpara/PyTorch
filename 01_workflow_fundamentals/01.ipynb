{
 "cells": [
  {
   "cell_type": "code",
   "execution_count": 2,
   "metadata": {},
   "outputs": [],
   "source": [
    "what_were_covering = {1: \"data (prepare and load)\",\n",
    "    2: \"build model\",\n",
    "    3: \"fitting the model to data (training)\",\n",
    "    4: \"making predictions and evaluating a model (inference)\",\n",
    "    5: \"saving and loading a model\",\n",
    "    6: \"putting it all together\"\n",
    "}"
   ]
  },
  {
   "cell_type": "code",
   "execution_count": 3,
   "metadata": {},
   "outputs": [
    {
     "data": {
      "text/plain": [
       "'2.2.0+cpu'"
      ]
     },
     "execution_count": 3,
     "metadata": {},
     "output_type": "execute_result"
    }
   ],
   "source": [
    "import torch\n",
    "from torch import nn # nn contains all of PyTorch's building blocks for neural networks\n",
    "import matplotlib.pyplot as plt \n",
    "\n",
    "torch.__version__"
   ]
  },
  {
   "cell_type": "markdown",
   "metadata": {},
   "source": [
    "## 1. Data (Preparing and loading)\n",
    " Data can be almost anything... in machine learning\n",
    " <ul>\n",
    " <li>Excel spreadsheet</li>\n",
    " <li>Images of any kind</li>\n",
    " <li>Videos (Youtube has lots of data...)</li>\n",
    " <li>Audio like songs or podcasts</li>\n",
    " <li>DNA</li>\n",
    " <li>Text</li>\n",
    " </ul>\n",
    "\n",
    " Machine learning is a game of two parts:\n",
    "\n",
    " <ol>\n",
    " <li>Get data into a numerical representation</li>\n",
    " <li>Build a model to learn patterns in that numerical representation</li>\n",
    " </ol>\n",
    "\n",
    " we'll use a linear regression formula(y=a+mx) to make a straight line with known parameters."
   ]
  },
  {
   "cell_type": "code",
   "execution_count": 4,
   "metadata": {},
   "outputs": [
    {
     "name": "stdout",
     "output_type": "stream",
     "text": [
      "shape of X before : torch.Size([50]) \n",
      "tensor([0.0000, 0.0200, 0.0400, 0.0600, 0.0800, 0.1000, 0.1200, 0.1400, 0.1600,\n",
      "        0.1800])\n",
      "after unsqueezing : torch.Size([50, 1])\n",
      "tensor([[0.6000],\n",
      "        [0.6160],\n",
      "        [0.6320],\n",
      "        [0.6480],\n",
      "        [0.6640],\n",
      "        [0.6800],\n",
      "        [0.6960],\n",
      "        [0.7120],\n",
      "        [0.7280],\n",
      "        [0.7440]])\n"
     ]
    }
   ],
   "source": [
    "#creating known parameters\n",
    "weight = 0.8\n",
    "bias = 0.6  \n",
    "\n",
    "#Create\n",
    "start = 0\n",
    "end = 1\n",
    "step = 0.02\n",
    "X = torch.arange(start=start,end=end,step=step)\n",
    "print(f\"shape of X before : {X.shape} \\n{X[:10]}\")\n",
    "X = X.unsqueeze(dim=1) # capital x shows that this indicates to tensor\n",
    "print(f\"after unsqueezing : {X.shape}\")\n",
    "#\n",
    "#after unsqueezing : [1,len(X)]\n",
    "y = weight*X + bias # follows linear regression y = mx + b\n",
    "\n",
    "print(y[:10])"
   ]
  },
  {
   "cell_type": "code",
   "execution_count": 5,
   "metadata": {},
   "outputs": [
    {
     "data": {
      "text/plain": [
       "(50, 50)"
      ]
     },
     "execution_count": 5,
     "metadata": {},
     "output_type": "execute_result"
    }
   ],
   "source": [
    "#here y is label for each X\n",
    "len(X),len(y)"
   ]
  },
  {
   "cell_type": "markdown",
   "metadata": {},
   "source": [
    "### Spliting data into training and test sets (one of the most important concept in machine learning in general)"
   ]
  },
  {
   "cell_type": "markdown",
   "metadata": {},
   "source": [
    "#### Let's create a training and test set with out data"
   ]
  },
  {
   "cell_type": "code",
   "execution_count": 6,
   "metadata": {},
   "outputs": [
    {
     "data": {
      "text/plain": [
       "(40, 40, 10, 10)"
      ]
     },
     "execution_count": 6,
     "metadata": {},
     "output_type": "execute_result"
    }
   ],
   "source": [
    "split_train = int(0.8*len(X))\n",
    "\n",
    "X_train = X[:split_train]\n",
    "X_test = X[split_train:len(X)]\n",
    "\n",
    "y_train = y[:split_train]\n",
    "y_test = y[split_train:len(y)]\n",
    "\n",
    "len(X_train),len(y_train),len(X_test),len(y_test)"
   ]
  },
  {
   "cell_type": "markdown",
   "metadata": {},
   "source": [
    "### Visualize the data"
   ]
  },
  {
   "cell_type": "code",
   "execution_count": 7,
   "metadata": {},
   "outputs": [],
   "source": [
    "def plot_prediction(train_data=X_train,\n",
    "                    train_labels = y_train,\n",
    "                    test_data = X_test,\n",
    "                    test_labels = y_test,\n",
    "                    test_data_pred = None ,\n",
    "                    predictions = None):\n",
    "    \"\"\" \n",
    "    Plots training data, test data and compares predictions.\n",
    "    \"\"\"\n",
    "    #define the size of the chart\n",
    "    plt.figure(figsize=(5,5))\n",
    "\n",
    "\n",
    "    #plot training data in blue\n",
    "    plt.scatter(train_data,train_labels,c=\"b\",s=5,label=\"training data\")\n",
    "\n",
    "    #plot test data in green\n",
    "    plt.scatter(test_data,test_labels,c=\"g\",s=15,label=\"testing data\")\n",
    "\n",
    "    if predictions is not None:\n",
    "        #plot the predictions as well\n",
    "        plt.scatter(test_data,predictions,c=\"r\",s=5,label=\"predictions\")\n",
    "\n",
    "    #show the lagend\n",
    "    plt.legend(loc=\"upper left\")\n",
    "        \n",
    "    \n",
    "    "
   ]
  },
  {
   "cell_type": "code",
   "execution_count": 8,
   "metadata": {},
   "outputs": [
    {
     "data": {
      "image/png": "[encoded data removed]",
      "text/plain": [
       "<Figure size 500x500 with 1 Axes>"
      ]
     },
     "metadata": {},
     "output_type": "display_data"
    }
   ],
   "source": [
    "plot_prediction() # blue dots are ideal output"
   ]
  },
  {
   "cell_type": "markdown",
   "metadata": {},
   "source": [
    "## Build Model\n",
    "\n",
    "first PyTorch model!\n",
    "\n",
    "What our model does:\n",
    "<ul>\n",
    "<li>Start with random values ( weights and bias )</li>\n",
    "<li>Look at training data and adjust the random values to better represent ( or get closer to ) the ideal values (the weights and bias values we used to create the data)</li>\n",
    "</ul>\n",
    "\n",
    "How does it do so?\n",
    "\n",
    "Through two main algorithms:\n",
    "<ol>\n",
    "<li>Gradient descent</li>\n",
    "<li>Backpropagation</li>\n",
    "</ol>\n"
   ]
  },
  {
   "cell_type": "code",
   "execution_count": 9,
   "metadata": {},
   "outputs": [],
   "source": [
    "from torch import nn\n",
    "\n",
    "#create linear regression model class\n",
    "#every model in pytorch inherit from nn.module that's why you need to define forward method for overriding purpose\n",
    "\n",
    "\n",
    "class LinearRegressionModel(nn.Module): # almost everything in pytorch inherits from nn.Module\n",
    "    def __init__(self, *args, **kwargs) -> None:\n",
    "        super().__init__(*args, **kwargs)\n",
    "        self.weights = nn.Parameter(torch.randn(1, # <- start with random weight and try to adjust it to the ideal weight\n",
    "                                                requires_grad=True, # <- can this parameter be updated via gradient descent?\n",
    "                                                dtype=torch.float)) # <- PyTorch loves the datatype torch.float32\n",
    "        \n",
    "        self.bias = nn.Parameter(torch.randn(1, # <- start with random bias and try to adjust it to the ideal bias\n",
    "                                             requires_grad=True, # <- can this parameter be updated via gradient descent?\n",
    "                                             dtype=torch.float)) # <- PyTorch loves the datatype torch.float32\n",
    "        \n",
    "        \n",
    "        #Forward method to define the computation in the model \n",
    "    def forward(self, x: torch.Tensor) -> torch.Tensor:  # x is input data\n",
    "        return self.weights*x + self.bias # this is the linear regression formula"
   ]
  },
  {
   "cell_type": "markdown",
   "metadata": {},
   "source": [
    "### PyTorch model building essentials\n",
    "\n",
    "<ul>\n",
    "<li><b>torch.nn</b> - contains all of the buildings for computational graphs ( a neural network can be considered a computational graph )</li>\n",
    "<li><b>torch.nn.Parameter</b> - what parameters should our model try and learn, often a  PyTorch layer from torch.nn will set these for us</li>\n",
    "<li><b>torch.nn.Module</b> - The base class for all neural network modules, if you subclass it, you should overwrite forward()</li>\n",
    "<li><b>torch.optim</b> - where the optimizers in PyTorch live, they will help with gradient descent, it is basically an algorithm</li>\n",
    "<li><b>def forward()</b> - All nn Module subclasses require you to overwrite forward(), this method defines what happens in the forward computation</li>\n",
    "</ul>\n",
    "\n",
    "Here is the cheat sheet you can go through : https://pytorch.org/tutorials/beginner/ptcheat.html\n"
   ]
  },
  {
   "cell_type": "markdown",
   "metadata": {},
   "source": [
    "### Checking the contents of our PyTorch model\n",
    "\n",
    "we have created the model, let's see what's inside...\n",
    "So we can check our model parameters or what's inside out model using .parameters()"
   ]
  },
  {
   "cell_type": "code",
   "execution_count": 10,
   "metadata": {},
   "outputs": [
    {
     "data": {
      "text/plain": [
       "[Parameter containing:\n",
       " tensor([0.3367], requires_grad=True),\n",
       " Parameter containing:\n",
       " tensor([0.1288], requires_grad=True)]"
      ]
     },
     "execution_count": 10,
     "metadata": {},
     "output_type": "execute_result"
    }
   ],
   "source": [
    "#Create a random seed\n",
    "torch.manual_seed(42)\n",
    "\n",
    "#create an instance of the model ( this is a subclass of nn.Module)\n",
    "model_0 = LinearRegressionModel()\n",
    "\n",
    "#check out the parameters\n",
    "list(model_0.parameters())"
   ]
  },
  {
   "cell_type": "code",
   "execution_count": 11,
   "metadata": {},
   "outputs": [
    {
     "data": {
      "text/plain": [
       "OrderedDict([('weights', tensor([0.3367])), ('bias', tensor([0.1288]))])"
      ]
     },
     "execution_count": 11,
     "metadata": {},
     "output_type": "execute_result"
    }
   ],
   "source": [
    "#listing named parameters\n",
    "model_0.state_dict()\n",
    "# model_0.weights, model_0.bias"
   ]
  },
  {
   "cell_type": "code",
   "execution_count": 12,
   "metadata": {},
   "outputs": [
    {
     "data": {
      "text/plain": [
       "(0.8, 0.6)"
      ]
     },
     "execution_count": 12,
     "metadata": {},
     "output_type": "execute_result"
    }
   ],
   "source": [
    "#listing known parameters\n",
    "weight,bias"
   ]
  },
  {
   "cell_type": "markdown",
   "metadata": {},
   "source": [
    "Here the task is to take the value of named params to near to known params, the closer we get the values the better we will able to predict data in model"
   ]
  },
  {
   "cell_type": "markdown",
   "metadata": {},
   "source": [
    "### Make predictions using <code>torch.inference_mode()</code>\n",
    "To check our model's predictive power, let's see how well it predicts <code>y_test</code> based on <code>x_test</code>\n",
    "When we pass data through our model, it's going to run it through the <code>forward()</code> method."
   ]
  },
  {
   "cell_type": "code",
   "execution_count": 13,
   "metadata": {},
   "outputs": [],
   "source": [
    "# make predictions using model\n",
    "#   inference mode desables all the things required while training a model. actually it does not track \n",
    "# the gradient descent, with larger dataset your predictions would be more faster\n",
    "with torch.inference_mode():\n",
    "    y_preds = model_0(X_test)\n",
    "\n",
    "#in older PyTorch code you might also see torch.no_grad(),but inference mode is recommended as it is more faster\n",
    "# with torch.no_grad():\n",
    "#     y_preds = model_0(X_test)"
   ]
  },
  {
   "cell_type": "code",
   "execution_count": 14,
   "metadata": {},
   "outputs": [
    {
     "name": "stdout",
     "output_type": "stream",
     "text": [
      "40\n"
     ]
    },
    {
     "data": {
      "image/png": "[encoded data removed]",
      "text/plain": [
       "<Figure size 500x500 with 1 Axes>"
      ]
     },
     "metadata": {},
     "output_type": "display_data"
    }
   ],
   "source": [
    "print(len(X_train))\n",
    "plot_prediction(train_data=X_train,train_labels=y_train,test_data=X_test,test_labels=y_test,predictions=y_preds) "
   ]
  },
  {
   "cell_type": "markdown",
   "metadata": {},
   "source": [
    "## Training this model\n",
    "\n",
    "The whole idea of training is for a model to move from some <i>unknown</i> parameters (these may be random) to some <i>known</i> parameters.\n",
    "\n",
    "or in other words from a poor representation of the data to a bettere representation of the data.\n",
    "\n",
    "One way to measure how poor or how wrong your models predictions are is to use a loss function.\n",
    "\n",
    "<b>Note:</b> Loss function may also be called cost function or criterion in defferent areas. For our case, we're going to refer to it as a loss function.\n",
    "\n",
    "Things we need to train:\n",
    "\n",
    "<b>Loss function: </b> A function to measure how wrong your model's predictions are to the ideal outputs, lower is better.\n",
    "<b>Optimizer: </b> Takes into account the loss of a model and adjusts the model's parameters (w and b in our case) to improve the loss function.\n",
    "\n",
    "#### loss function measures how wrong our model is and optimizer adjust our model parameters to reduce the loss \n",
    "\n",
    "<ul>\n",
    "<li>Inside the optimizer you'll often have to set two parameters:</li>\n",
    "<ul>\n",
    "<li><code>params</code> - the model parameters you'd like to optimize, for example <b>params=model_0.parameters()<b></li>\n",
    "<li><code>lr</code> - the learning rate is a hyperparameter that defines how big/small the optimizer changes the parameters with each step ( a small lr results in small changes, a large lr results in large changes)</li>\n",
    "</ul>\n",
    "</ul>\n",
    "\n",
    "And specifically for PyTorch, we need:\n",
    "1. A training loop\n",
    "2. A testing loop"
   ]
  },
  {
   "cell_type": "code",
   "execution_count": 15,
   "metadata": {},
   "outputs": [
    {
     "data": {
      "text/plain": [
       "OrderedDict([('weights', tensor([0.3367])), ('bias', tensor([0.1288]))])"
      ]
     },
     "execution_count": 15,
     "metadata": {},
     "output_type": "execute_result"
    }
   ],
   "source": [
    "#check out our model's parameters ( a parameter is a value that the model sets itself)\n",
    "model_0.state_dict()"
   ]
  },
  {
   "cell_type": "code",
   "execution_count": 16,
   "metadata": {},
   "outputs": [
    {
     "data": {
      "text/plain": [
       "L1Loss()"
      ]
     },
     "execution_count": 16,
     "metadata": {},
     "output_type": "execute_result"
    }
   ],
   "source": [
    "#setup a loss function which follows the MAE ( Mean Absolute Error )\n",
    "loss_fun = nn.L1Loss()\n",
    "loss_fun   "
   ]
  },
  {
   "cell_type": "code",
   "execution_count": 17,
   "metadata": {},
   "outputs": [],
   "source": [
    "#setup an Optimizer (SGD-Stochastic Gradient Descent)\n",
    "Optimizer = torch.optim.SGD(params=model_0.parameters(),\n",
    "                            lr=0.01) # lr = Learning Rate = possibly the most imp hyperparameter you can set\n",
    "                                     # smaller the lr, changes in lr will be smaller \n",
    "                                     # larger the lr, changes in lr will be larger \n",
    "    "
   ]
  },
  {
   "cell_type": "markdown",
   "metadata": {},
   "source": [
    "### Building a training and testing loop ( and a testing loop ) in PyTorch\n",
    "\n",
    "A couple of things we need in a training loop:\n",
    "\n",
    "0. Loop through the data\n",
    "1. Forward pass ( this involves data moving from input to output ) to make prediction on data\n",
    "2. calculate the loss ( compare forward pass predictions to graoud truth labels )\n",
    "3. Optimizer zero grad\n",
    "4. loss backwards - move backwards through the network to calculate the gradients of each of the parameters of our model with respect to the loss\n",
    "5. Optimizer step - use the optimizer to adjust out model's parameters to try and improve the loss  \n",
    "\n",
    "\n",
    "#### Gradient : \n",
    "change in loss with respect to model parameteres, here change in loss with respect to w and b"
   ]
  },
  {
   "cell_type": "code",
   "execution_count": 18,
   "metadata": {},
   "outputs": [
    {
     "name": "stdout",
     "output_type": "stream",
     "text": [
      "Epoch : 0 | Loss : 0.6518813967704773 | Test loss : 0.8700652122497559\n",
      "OrderedDict([('weights', tensor([0.3406])), ('bias', tensor([0.1388]))])\n",
      "Epoch : 10 | Loss : 0.5366714000701904 | Test loss : 0.7353552579879761\n",
      "OrderedDict([('weights', tensor([0.3796])), ('bias', tensor([0.2388]))])\n",
      "Epoch : 20 | Loss : 0.42146140336990356 | Test loss : 0.6006453633308411\n",
      "OrderedDict([('weights', tensor([0.4186])), ('bias', tensor([0.3388]))])\n",
      "Epoch : 30 | Loss : 0.306251585483551 | Test loss : 0.46593552827835083\n",
      "OrderedDict([('weights', tensor([0.4576])), ('bias', tensor([0.4388]))])\n",
      "Epoch : 40 | Loss : 0.19104167819023132 | Test loss : 0.3312256634235382\n",
      "OrderedDict([('weights', tensor([0.4966])), ('bias', tensor([0.5388]))])\n",
      "Epoch : 50 | Loss : 0.0826275423169136 | Test loss : 0.2021670788526535\n",
      "OrderedDict([('weights', tensor([0.5354])), ('bias', tensor([0.6333]))])\n",
      "Epoch : 60 | Loss : 0.049004387110471725 | Test loss : 0.1324913203716278\n",
      "OrderedDict([('weights', tensor([0.5676])), ('bias', tensor([0.6743]))])\n",
      "Epoch : 70 | Loss : 0.04228803887963295 | Test loss : 0.10409262031316757\n",
      "OrderedDict([('weights', tensor([0.5906])), ('bias', tensor([0.6823]))])\n",
      "Epoch : 80 | Loss : 0.03865168243646622 | Test loss : 0.09171686321496964\n",
      "OrderedDict([('weights', tensor([0.6090])), ('bias', tensor([0.6783]))])\n",
      "Epoch : 90 | Loss : 0.035174477845430374 | Test loss : 0.08138392865657806\n",
      "OrderedDict([('weights', tensor([0.6267])), ('bias', tensor([0.6728]))])\n"
     ]
    },
    {
     "data": {
      "image/png": "[encoded data removed]",
      "text/plain": [
       "<Figure size 500x500 with 1 Axes>"
      ]
     },
     "metadata": {},
     "output_type": "display_data"
    }
   ],
   "source": [
    "#An epoch is one loop through the data... ( this is a hyperparameter because we've set it ourselves)\n",
    "import time\n",
    "epochs = 100\n",
    "\n",
    "epoch_counts = []\n",
    "train_loss_count = []\n",
    "test_loss_count = []\n",
    "# TRAINING and TESTING loop\n",
    "\n",
    "#Training\n",
    "\n",
    "    # 0. Loop through the data \n",
    "for epoch in range(epochs):\n",
    "    #set the model to training mode\n",
    "    model_0.train() # train mode in pytorch sets all parameters that requires gradients to require gradients\n",
    "\n",
    "    # 1. Forward pass\n",
    "    train_predictions = model_0(X_train)\n",
    "\n",
    "    # 2. Calculate the loss\n",
    "    loss = loss_fun(train_predictions,y_train)\n",
    "\n",
    "    # 3. Optimizer zero grad\n",
    "    Optimizer.zero_grad()\n",
    "\n",
    "    # 4. perform backpropagation on the loss with respect to the parameters of the model\n",
    "    loss.backward()\n",
    "\n",
    "    # 5. Step the optimizer (perform gradient descent)\n",
    "    Optimizer.step() # by default how the optimizer changes will acculumate through the loop so... we have to zero them above in step 3 for the next iteration of the loop\n",
    "    \n",
    "\n",
    "#Testing \n",
    "\n",
    "    model_0.eval() # turns off different settings in the model not needed for evaluation/testing (dropout/batch norm layer)  \n",
    "\n",
    "    \n",
    "    with torch.inference_mode(): # turn off gradient tracking and a couple more things behind the scenes\n",
    "        # 1. do the forward pass\n",
    "        test_predictions = model_0(X_test)\n",
    "\n",
    "        # 2. calculate the loss\n",
    "        test_loss = loss_fun(test_predictions,y_test)\n",
    "\n",
    "    #print what is happening?\n",
    "    if epoch%10 == 0:\n",
    "        print(f\"Epoch : {epoch} | Loss : {loss} | Test loss : {test_loss}\")\n",
    "        epoch_counts.append(epoch)\n",
    "        train_loss_count.append(loss)\n",
    "        test_loss_count.append(test_loss)\n",
    "        #print out model state_dict()\n",
    "        print(model_0.state_dict())\n",
    "\n",
    "plot_prediction(predictions=test_predictions)\n"
   ]
  },
  {
   "cell_type": "code",
   "execution_count": 19,
   "metadata": {},
   "outputs": [
    {
     "data": {
      "image/png": "[encoded data removed]",
      "text/plain": [
       "<Figure size 500x500 with 1 Axes>"
      ]
     },
     "metadata": {},
     "output_type": "display_data"
    }
   ],
   "source": [
    "#after 100 epochs\n",
    "plot_prediction(predictions=test_predictions)\n"
   ]
  },
  {
   "cell_type": "code",
   "execution_count": 20,
   "metadata": {},
   "outputs": [
    {
     "data": {
      "image/png": "[encoded data removed]",
      "text/plain": [
       "<Figure size 500x500 with 1 Axes>"
      ]
     },
     "metadata": {},
     "output_type": "display_data"
    }
   ],
   "source": [
    "#after 200 epochs\n",
    "plot_prediction(predictions=test_predictions)\n"
   ]
  },
  {
   "cell_type": "markdown",
   "metadata": {},
   "source": [
    "Here thing to remember is that we can't plot pytorch array on the graph, for plotting we need to convert it into numpy array"
   ]
  },
  {
   "cell_type": "code",
   "execution_count": 21,
   "metadata": {},
   "outputs": [],
   "source": [
    "import numpy as np\n",
    "train_loss_count_numpy = []\n",
    "test_loss_count_numpy = []\n",
    "\n",
    "#converting tensors into numpy array you can only run it once because after one execution tensors are converted into arrays and it won't have detach() method like tensor\n",
    "for i in range(len(train_loss_count)):\n",
    "    train_loss_count[i] = train_loss_count[i].detach().numpy()\n",
    "    train_loss_count_numpy.append(train_loss_count[i])\n",
    "for i in range(len(test_loss_count)):\n",
    "    test_loss_count[i] = test_loss_count[i].detach().numpy()\n",
    "    test_loss_count_numpy.append(test_loss_count[i])"
   ]
  },
  {
   "cell_type": "code",
   "execution_count": 22,
   "metadata": {},
   "outputs": [
    {
     "data": {
      "text/plain": [
       "([array(0.6518814, dtype=float32),\n",
       "  array(0.5366714, dtype=float32),\n",
       "  array(0.4214614, dtype=float32),\n",
       "  array(0.3062516, dtype=float32),\n",
       "  array(0.19104168, dtype=float32),\n",
       "  array(0.08262754, dtype=float32),\n",
       "  array(0.04900439, dtype=float32),\n",
       "  array(0.04228804, dtype=float32),\n",
       "  array(0.03865168, dtype=float32),\n",
       "  array(0.03517448, dtype=float32)],\n",
       " [array(0.8700652, dtype=float32),\n",
       "  array(0.73535526, dtype=float32),\n",
       "  array(0.60064536, dtype=float32),\n",
       "  array(0.46593553, dtype=float32),\n",
       "  array(0.33122566, dtype=float32),\n",
       "  array(0.20216708, dtype=float32),\n",
       "  array(0.13249132, dtype=float32),\n",
       "  array(0.10409262, dtype=float32),\n",
       "  array(0.09171686, dtype=float32),\n",
       "  array(0.08138393, dtype=float32)])"
      ]
     },
     "execution_count": 22,
     "metadata": {},
     "output_type": "execute_result"
    }
   ],
   "source": [
    "train_loss_count_numpy,test_loss_count_numpy"
   ]
  },
  {
   "cell_type": "code",
   "execution_count": 23,
   "metadata": {},
   "outputs": [
    {
     "data": {
      "text/plain": [
       "<matplotlib.legend.Legend at 0x7fd7941f7e80>"
      ]
     },
     "execution_count": 23,
     "metadata": {},
     "output_type": "execute_result"
    },
    {
     "data": {
      "image/png": "[encoded data removed]",
      "text/plain": [
       "<Figure size 640x480 with 1 Axes>"
      ]
     },
     "metadata": {},
     "output_type": "display_data"
    }
   ],
   "source": [
    "plt.plot(epoch_counts,train_loss_count_numpy,label=\"train_loss\")\n",
    "plt.plot(epoch_counts,test_loss_count_numpy,label=\"test_loss\")\n",
    "plt.title(\"training and testing loss curves\")\n",
    "plt.ylabel(\"loss\")\n",
    "plt.xlabel(\"epochs\")\n",
    "plt.legend()"
   ]
  },
  {
   "cell_type": "markdown",
   "metadata": {},
   "source": [
    "### Saving a model in pytorch\n",
    "\n",
    "Three main methods for saving and loading model with pytorch\n",
    "\n",
    "1. torch.save() - allows you save a pytorch object in python's pickle format\n",
    "2. torch.load() - allows you load a saved pytorch object\n",
    "3. torch.nn.Module.load_state_dict() - this allows to load a model's saved state dictionary"
   ]
  },
  {
   "cell_type": "code",
   "execution_count": 24,
   "metadata": {},
   "outputs": [
    {
     "name": "stdout",
     "output_type": "stream",
     "text": [
      "The model learned the following values for weights and bias:\n",
      "OrderedDict([('weights', tensor([0.6421])), ('bias', tensor([0.6663]))])\n",
      "\n",
      "And the original values for weights and bias are:\n",
      "weights: 0.8, bias: 0.6\n"
     ]
    }
   ],
   "source": [
    "# Find our model's learned parameters\n",
    "print(\"The model learned the following values for weights and bias:\")\n",
    "print(model_0.state_dict())\n",
    "print(\"\\nAnd the original values for weights and bias are:\")\n",
    "print(f\"weights: {weight}, bias: {bias}\")"
   ]
  },
  {
   "cell_type": "code",
   "execution_count": 25,
   "metadata": {},
   "outputs": [
    {
     "data": {
      "text/plain": [
       "tensor([[1.1800],\n",
       "        [1.1928],\n",
       "        [1.2057],\n",
       "        [1.2185],\n",
       "        [1.2314],\n",
       "        [1.2442],\n",
       "        [1.2570],\n",
       "        [1.2699],\n",
       "        [1.2827],\n",
       "        [1.2956]])"
      ]
     },
     "execution_count": 25,
     "metadata": {},
     "output_type": "execute_result"
    }
   ],
   "source": [
    "# 1. Set the model in evaluation mode\n",
    "model_0.eval()\n",
    "\n",
    "# 2. Setup the inference mode context manager\n",
    "with torch.inference_mode():\n",
    "  # 3. Make sure the calculations are done with the model and data on the same device\n",
    "  # in our case, we haven't setup device-agnostic code yet so our data and model are\n",
    "  # on the CPU by default.\n",
    "  # model_0.to(device)\n",
    "  # X_test = X_test.to(device)\n",
    "  y_preds = model_0(X_test)\n",
    "y_preds"
   ]
  },
  {
   "cell_type": "code",
   "execution_count": 26,
   "metadata": {},
   "outputs": [
    {
     "name": "stdout",
     "output_type": "stream",
     "text": [
      "saving model to path : ./models/01_Linear_regression_model_pytorch_workflow.pth\n"
     ]
    }
   ],
   "source": [
    "# Saving a pytorch model\n",
    "MODEL_NAME = \"01_Linear_regression_model_pytorch_workflow.pth\"\n",
    "PATH = f\"./models/{MODEL_NAME}\"\n",
    "\n",
    "#save the model state dict\n",
    "\n",
    "print(f\"saving model to path : {PATH}\")\n",
    "torch.save(obj=model_0.state_dict(),f=PATH)"
   ]
  },
  {
   "cell_type": "code",
   "execution_count": 27,
   "metadata": {},
   "outputs": [
    {
     "data": {
      "text/plain": [
       "<All keys matched successfully>"
      ]
     },
     "execution_count": 27,
     "metadata": {},
     "output_type": "execute_result"
    }
   ],
   "source": [
    "!instantiate the new model\n",
    "\n",
    "new_model = LinearRegressionModel()\n",
    "\n",
    "new_model.load_state_dict(torch.load(PATH))\n",
    "\n"
   ]
  },
  {
   "cell_type": "code",
   "execution_count": 28,
   "metadata": {},
   "outputs": [],
   "source": [
    "new_model.eval()\n",
    "\n",
    "new_model_preds = new_model(X_test)"
   ]
  },
  {
   "cell_type": "code",
   "execution_count": 29,
   "metadata": {},
   "outputs": [
    {
     "data": {
      "text/plain": [
       "tensor([[True],\n",
       "        [True],\n",
       "        [True],\n",
       "        [True],\n",
       "        [True],\n",
       "        [True],\n",
       "        [True],\n",
       "        [True],\n",
       "        [True],\n",
       "        [True]])"
      ]
     },
     "execution_count": 29,
     "metadata": {},
     "output_type": "execute_result"
    }
   ],
   "source": [
    "y_preds == new_model_preds"
   ]
  },
  {
   "cell_type": "code",
   "execution_count": null,
   "metadata": {},
   "outputs": [],
   "source": []
  }
 ],
 "metadata": {
  "kernelspec": {
   "display_name": "Python 3",
   "language": "python",
   "name": "python3"
  },
  "language_info": {
   "codemirror_mode": {
    "name": "ipython",
    "version": 3
   },
   "file_extension": ".py",
   "mimetype": "text/x-python",
   "name": "python",
   "nbconvert_exporter": "python",
   "pygments_lexer": "ipython3",
   "version": "3.10.12"
  }
 },
 "nbformat": 4,
 "nbformat_minor": 2
}
