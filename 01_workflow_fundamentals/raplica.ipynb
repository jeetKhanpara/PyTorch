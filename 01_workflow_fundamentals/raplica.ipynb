{
 "cells": [
  {
   "cell_type": "code",
   "execution_count": 2,
   "metadata": {},
   "outputs": [],
   "source": [
    "import torch\n",
    "import matplotlib.pyplot as plt"
   ]
  },
  {
   "cell_type": "code",
   "execution_count": 3,
   "metadata": {},
   "outputs": [
    {
     "name": "stdout",
     "output_type": "stream",
     "text": [
      "cpu\n"
     ]
    }
   ],
   "source": [
    "#device agnostic code\n",
    "device = \"cuda\" if torch.cuda.is_available() else \"cpu\"\n",
    "print(device)\n"
   ]
  },
  {
   "cell_type": "markdown",
   "metadata": {},
   "source": [
    "## creating data"
   ]
  },
  {
   "cell_type": "code",
   "execution_count": 4,
   "metadata": {},
   "outputs": [
    {
     "data": {
      "text/plain": [
       "tensor([[0.0000],\n",
       "        [0.0200],\n",
       "        [0.0400],\n",
       "        [0.0600],\n",
       "        [0.0800],\n",
       "        [0.1000],\n",
       "        [0.1200],\n",
       "        [0.1400],\n",
       "        [0.1600],\n",
       "        [0.1800],\n",
       "        [0.2000],\n",
       "        [0.2200],\n",
       "        [0.2400],\n",
       "        [0.2600],\n",
       "        [0.2800],\n",
       "        [0.3000],\n",
       "        [0.3200],\n",
       "        [0.3400],\n",
       "        [0.3600],\n",
       "        [0.3800],\n",
       "        [0.4000],\n",
       "        [0.4200],\n",
       "        [0.4400],\n",
       "        [0.4600],\n",
       "        [0.4800],\n",
       "        [0.5000],\n",
       "        [0.5200],\n",
       "        [0.5400],\n",
       "        [0.5600],\n",
       "        [0.5800],\n",
       "        [0.6000],\n",
       "        [0.6200],\n",
       "        [0.6400],\n",
       "        [0.6600],\n",
       "        [0.6800],\n",
       "        [0.7000],\n",
       "        [0.7200],\n",
       "        [0.7400],\n",
       "        [0.7600],\n",
       "        [0.7800],\n",
       "        [0.8000],\n",
       "        [0.8200],\n",
       "        [0.8400],\n",
       "        [0.8600],\n",
       "        [0.8800],\n",
       "        [0.9000],\n",
       "        [0.9200],\n",
       "        [0.9400],\n",
       "        [0.9600],\n",
       "        [0.9800]])"
      ]
     },
     "execution_count": 4,
     "metadata": {},
     "output_type": "execute_result"
    }
   ],
   "source": [
    "weight = 0.3\n",
    "bias = 0.9\n",
    "\n",
    "X = torch.arange(start=0,end=1,step=0.02).unsqueeze(dim=1)\n",
    "\n",
    "Y = weight*X + bias\n",
    "\n",
    "X\n"
   ]
  },
  {
   "cell_type": "markdown",
   "metadata": {},
   "source": [
    "## spliting data"
   ]
  },
  {
   "cell_type": "code",
   "execution_count": 5,
   "metadata": {},
   "outputs": [
    {
     "name": "stdout",
     "output_type": "stream",
     "text": [
      "40\n",
      "50\n"
     ]
    },
    {
     "data": {
      "text/plain": [
       "(40, 40, 10, 10)"
      ]
     },
     "execution_count": 5,
     "metadata": {},
     "output_type": "execute_result"
    }
   ],
   "source": [
    "split_portion = int(0.8*len(X))\n",
    "print(split_portion)\n",
    "print(len(X))\n",
    "x_train = X[:split_portion]\n",
    "y_train = Y[:split_portion]\n",
    "\n",
    "x_test = X[split_portion:] \n",
    "y_test = Y[split_portion:]\n",
    "\n",
    "len(x_train),len(y_train),len(x_test),len(y_test)"
   ]
  },
  {
   "cell_type": "markdown",
   "metadata": {},
   "source": [
    "## plotting the dataset we have defined"
   ]
  },
  {
   "cell_type": "code",
   "execution_count": 6,
   "metadata": {},
   "outputs": [],
   "source": [
    "def plot_the_prediction(x_train=x_train,\n",
    "                        y_train=y_train,\n",
    "                        x_test=x_test,\n",
    "                        y_test=y_test,\n",
    "                        predictions = None):\n",
    "\n",
    "    plt.figure(figsize=(10,7))\n",
    "    \n",
    "    #plot the training data\n",
    "    plt.scatter(x_train,y_train,c=\"y\",s=5,label=\"training_dataset\")\n",
    "\n",
    "    #plot the testing data\n",
    "    plt.scatter(x_test,y_test,s=10,c=\"b\",label=\"testing dataset\")\n",
    "\n",
    "    #plot the predictions if exists\n",
    "    if predictions is not None:\n",
    "        plt.scatter(x_test,predictions,s=15,c=\"r\",label=\"predictions\")\n",
    "\n",
    "    \n",
    "    plt.legend(loc=\"upper left\")\n"
   ]
  },
  {
   "cell_type": "code",
   "execution_count": 7,
   "metadata": {},
   "outputs": [
    {
     "data": {
      "image/png": "[encoded data removed]",
      "text/plain": [
       "<Figure size 1000x700 with 1 Axes>"
      ]
     },
     "metadata": {},
     "output_type": "display_data"
    }
   ],
   "source": [
    "plot_the_prediction(x_train,y_train,x_test,y_test)"
   ]
  },
  {
   "cell_type": "markdown",
   "metadata": {},
   "source": [
    "### Let's build a pyTorch model using linear layer\n"
   ]
  },
  {
   "cell_type": "code",
   "execution_count": 8,
   "metadata": {},
   "outputs": [],
   "source": [
    "class LRModel(torch.nn.Module):\n",
    "    def __init__(self, *args, **kwargs) -> None:\n",
    "        super().__init__(*args, **kwargs)\n",
    "\n",
    "        # self.weight = torch.nn.Parameter(torch.randn(1,\n",
    "        #                                              dtype=torch.float32,\n",
    "        #                                              requires_grad=True))\n",
    "        # self.bias = torch.nn.Parameter(torch.randn(1,\n",
    "        #                                              dtype=torch.float32,\n",
    "        #                                              requires_grad=True))\n",
    "        \n",
    "        self.linear_layer = torch.nn.Linear(in_features=1,\n",
    "                                            out_features=1)\n",
    "        \n",
    "    def forward(self,x: torch.Tensor) -> torch.Tensor:\n",
    "        # return self.weight*x + self.bias\n",
    "        return self.linear_layer(x)"
   ]
  },
  {
   "cell_type": "code",
   "execution_count": 9,
   "metadata": {},
   "outputs": [
    {
     "name": "stdout",
     "output_type": "stream",
     "text": [
      "OrderedDict([('linear_layer.weight', tensor([[0.7645]])), ('linear_layer.bias', tensor([0.8300]))])\n"
     ]
    }
   ],
   "source": [
    "torch.manual_seed(42)\n",
    "\n",
    "model = LRModel()\n",
    "\n",
    "print(model.state_dict())"
   ]
  },
  {
   "cell_type": "code",
   "execution_count": 10,
   "metadata": {},
   "outputs": [
    {
     "data": {
      "text/plain": [
       "LRModel(\n",
       "  (linear_layer): Linear(in_features=1, out_features=1, bias=True)\n",
       ")"
      ]
     },
     "execution_count": 10,
     "metadata": {},
     "output_type": "execute_result"
    }
   ],
   "source": [
    "#taking model to the device available\n",
    "\n",
    "next(model.parameters()).device\n",
    "model.to(device=device)"
   ]
  },
  {
   "cell_type": "markdown",
   "metadata": {},
   "source": [
    "### Training\n",
    "\n",
    "loss fun\n",
    "\n",
    "Optimizer \n",
    "\n",
    "training loop \n",
    "\n",
    "testing loop"
   ]
  },
  {
   "cell_type": "markdown",
   "metadata": {},
   "source": [
    "#### Loss function"
   ]
  },
  {
   "cell_type": "code",
   "execution_count": 11,
   "metadata": {},
   "outputs": [
    {
     "data": {
      "text/plain": [
       "L1Loss()"
      ]
     },
     "execution_count": 11,
     "metadata": {},
     "output_type": "execute_result"
    }
   ],
   "source": [
    "loss_fun = torch.nn.L1Loss()\n",
    "loss_fun"
   ]
  },
  {
   "cell_type": "markdown",
   "metadata": {},
   "source": [
    "#### Optimizer"
   ]
  },
  {
   "cell_type": "code",
   "execution_count": 12,
   "metadata": {},
   "outputs": [],
   "source": [
    "Optimizer = torch.optim.SGD(params=model.parameters(),\n",
    "                            lr=0.01)"
   ]
  },
  {
   "cell_type": "markdown",
   "metadata": {},
   "source": [
    "## Let's build the model with training and testing loop"
   ]
  },
  {
   "cell_type": "code",
   "execution_count": 13,
   "metadata": {},
   "outputs": [
    {
     "name": "stdout",
     "output_type": "stream",
     "text": [
      "epoch : 0 | training loss : 0.12616769969463348 | testing loss : 0.33422544598579407\n",
      "epoch : 20 | training loss : 0.08189655840396881 | testing loss : 0.21857480704784393\n",
      "epoch : 40 | training loss : 0.07218800485134125 | testing loss : 0.17499032616615295\n",
      "epoch : 60 | training loss : 0.06520797312259674 | testing loss : 0.15295077860355377\n",
      "epoch : 80 | training loss : 0.05831370875239372 | testing loss : 0.1357191950082779\n",
      "epoch : 100 | training loss : 0.051440197974443436 | testing loss : 0.11986131966114044\n",
      "epoch : 120 | training loss : 0.04457508772611618 | testing loss : 0.10331656038761139\n",
      "epoch : 140 | training loss : 0.03770974278450012 | testing loss : 0.08745871484279633\n",
      "epoch : 160 | training loss : 0.03083621896803379 | testing loss : 0.07160083949565887\n",
      "epoch : 180 | training loss : 0.02396780252456665 | testing loss : 0.055056132376194\n"
     ]
    }
   ],
   "source": [
    "epochs = 200\n",
    "\n",
    "#training\n",
    "\n",
    "for epoch in range(epochs):\n",
    "\n",
    "    model.train()\n",
    "\n",
    "    y_preds = model(x_train)\n",
    "\n",
    "    trainig_loss = loss_fun(y_preds,y_train)\n",
    "\n",
    "    Optimizer.zero_grad()\n",
    "\n",
    "    trainig_loss.backward()\n",
    "\n",
    "    Optimizer.step()\n",
    "\n",
    "    #testing\n",
    "    \n",
    "    model.eval()\n",
    "\n",
    "    with torch.inference_mode():\n",
    "\n",
    "        Y_preds_test = model(x_test)\n",
    "\n",
    "        testing_loss = loss_fun(Y_preds_test,y_test)\n",
    "\n",
    "\n",
    "    if epoch % 20 == 0:\n",
    "\n",
    "        print(f\"epoch : {epoch} | training loss : {trainig_loss} | testing loss : {testing_loss}\")\n",
    "\n",
    "        # plot_the_prediction(predictions=Y_preds_test) "
   ]
  },
  {
   "cell_type": "code",
   "execution_count": 14,
   "metadata": {},
   "outputs": [
    {
     "data": {
      "text/plain": [
       "OrderedDict([('linear_layer.weight', tensor([[0.3852]])),\n",
       "             ('linear_layer.bias', tensor([0.8645]))])"
      ]
     },
     "execution_count": 14,
     "metadata": {},
     "output_type": "execute_result"
    }
   ],
   "source": [
    "model.state_dict()"
   ]
  },
  {
   "cell_type": "code",
   "execution_count": 15,
   "metadata": {},
   "outputs": [
    {
     "data": {
      "text/plain": [
       "(0.3, 0.9)"
      ]
     },
     "execution_count": 15,
     "metadata": {},
     "output_type": "execute_result"
    }
   ],
   "source": [
    "weight,bias"
   ]
  },
  {
   "cell_type": "code",
   "execution_count": 16,
   "metadata": {},
   "outputs": [
    {
     "data": {
      "text/plain": [
       "(tensor([[1.1726],\n",
       "         [1.1803],\n",
       "         [1.1880],\n",
       "         [1.1957],\n",
       "         [1.2034],\n",
       "         [1.2112],\n",
       "         [1.2189],\n",
       "         [1.2266],\n",
       "         [1.2343],\n",
       "         [1.2420]]),\n",
       " tensor([[1.1400],\n",
       "         [1.1460],\n",
       "         [1.1520],\n",
       "         [1.1580],\n",
       "         [1.1640],\n",
       "         [1.1700],\n",
       "         [1.1760],\n",
       "         [1.1820],\n",
       "         [1.1880],\n",
       "         [1.1940]]))"
      ]
     },
     "execution_count": 16,
     "metadata": {},
     "output_type": "execute_result"
    }
   ],
   "source": [
    "with torch.inference_mode():\n",
    "    y_new = model(x_test)\n",
    "\n",
    "y_new,y_test"
   ]
  },
  {
   "cell_type": "code",
   "execution_count": 17,
   "metadata": {},
   "outputs": [
    {
     "data": {
      "image/png": "[encoded data removed]",
      "text/plain": [
       "<Figure size 1000x700 with 1 Axes>"
      ]
     },
     "metadata": {},
     "output_type": "display_data"
    }
   ],
   "source": [
    "plot_the_prediction(predictions=y_new)"
   ]
  },
  {
   "cell_type": "markdown",
   "metadata": {},
   "source": [
    "### saving the model"
   ]
  },
  {
   "cell_type": "code",
   "execution_count": 18,
   "metadata": {},
   "outputs": [],
   "source": [
    "PATH = \"./models/raplica.pth\"\n",
    "torch.save(obj=model.state_dict(),f=PATH)"
   ]
  },
  {
   "cell_type": "markdown",
   "metadata": {},
   "source": [
    "### load the model"
   ]
  },
  {
   "cell_type": "code",
   "execution_count": 19,
   "metadata": {},
   "outputs": [
    {
     "data": {
      "text/plain": [
       "<All keys matched successfully>"
      ]
     },
     "execution_count": 19,
     "metadata": {},
     "output_type": "execute_result"
    }
   ],
   "source": [
    "#instantiate new model\n",
    "\n",
    "new_model = LRModel()\n",
    "\n",
    "new_model.load_state_dict(torch.load(PATH))"
   ]
  },
  {
   "cell_type": "code",
   "execution_count": 20,
   "metadata": {},
   "outputs": [],
   "source": [
    "# with torch.inference_mode():\n",
    "yyy = model(x_test)\n",
    "\n",
    "yyy_1 = new_model(x_test)"
   ]
  },
  {
   "cell_type": "code",
   "execution_count": 21,
   "metadata": {},
   "outputs": [
    {
     "data": {
      "text/plain": [
       "tensor([[True],\n",
       "        [True],\n",
       "        [True],\n",
       "        [True],\n",
       "        [True],\n",
       "        [True],\n",
       "        [True],\n",
       "        [True],\n",
       "        [True],\n",
       "        [True]])"
      ]
     },
     "execution_count": 21,
     "metadata": {},
     "output_type": "execute_result"
    }
   ],
   "source": [
    "yyy == yyy_1"
   ]
  },
  {
   "cell_type": "code",
   "execution_count": 22,
   "metadata": {},
   "outputs": [
    {
     "data": {
      "text/plain": [
       "LRModel(\n",
       "  (linear_layer): Linear(in_features=1, out_features=1, bias=True)\n",
       ")"
      ]
     },
     "execution_count": 22,
     "metadata": {},
     "output_type": "execute_result"
    }
   ],
   "source": [
    "LRModel()"
   ]
  },
  {
   "cell_type": "code",
   "execution_count": null,
   "metadata": {},
   "outputs": [],
   "source": []
  }
 ],
 "metadata": {
  "kernelspec": {
   "display_name": "myenv",
   "language": "python",
   "name": "python3"
  },
  "language_info": {
   "codemirror_mode": {
    "name": "ipython",
    "version": 3
   },
   "file_extension": ".py",
   "mimetype": "text/x-python",
   "name": "python",
   "nbconvert_exporter": "python",
   "pygments_lexer": "ipython3",
   "version": "3.10.12"
  }
 },
 "nbformat": 4,
 "nbformat_minor": 2
}
