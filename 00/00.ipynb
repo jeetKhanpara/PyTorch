{
 "cells": [
  {
   "cell_type": "code",
   "execution_count": 2,
   "metadata": {},
   "outputs": [],
   "source": [
    "import torch\n",
    "import numpy as np \n",
    "import pandas as pd"
   ]
  },
  {
   "cell_type": "markdown",
   "metadata": {},
   "source": [
    "## introduction to tensor\n"
   ]
  },
  {
   "cell_type": "markdown",
   "metadata": {},
   "source": [
    "#### you can refer to the documentation for tensor class present in pytorch module : https://pytorch.org/docs/stable/tensors.html "
   ]
  },
  {
   "cell_type": "markdown",
   "metadata": {},
   "source": [
    "### scalar"
   ]
  },
  {
   "cell_type": "code",
   "execution_count": 3,
   "metadata": {},
   "outputs": [
    {
     "data": {
      "text/plain": [
       "tensor(21)"
      ]
     },
     "execution_count": 3,
     "metadata": {},
     "output_type": "execute_result"
    }
   ],
   "source": [
    "scalar = torch.tensor(21)\n",
    "scalar # will return the type as well"
   ]
  },
  {
   "cell_type": "code",
   "execution_count": 4,
   "metadata": {},
   "outputs": [
    {
     "name": "stdout",
     "output_type": "stream",
     "text": [
      "21\n",
      "0\n",
      "torch.Size([])\n"
     ]
    }
   ],
   "source": [
    "#item will provide the value present in the tensor while ndim is for dimension\n",
    "#item onnly woks with the scalar\n",
    "print(scalar.item())\n",
    "print(scalar.ndim)\n",
    "print(scalar.shape)"
   ]
  },
  {
   "cell_type": "markdown",
   "metadata": {},
   "source": [
    "### vector"
   ]
  },
  {
   "cell_type": "code",
   "execution_count": 5,
   "metadata": {},
   "outputs": [
    {
     "data": {
      "text/plain": [
       "tensor([21, 27])"
      ]
     },
     "execution_count": 5,
     "metadata": {},
     "output_type": "execute_result"
    }
   ],
   "source": [
    "vector = torch.tensor([21,27])\n",
    "vector"
   ]
  },
  {
   "cell_type": "markdown",
   "metadata": {},
   "source": [
    "##### here dimension will return the number of close square brackets while shape provides the info about the total elements present in the tensor and brackets define how elements are structred\n"
   ]
  },
  {
   "cell_type": "code",
   "execution_count": 6,
   "metadata": {},
   "outputs": [
    {
     "name": "stdout",
     "output_type": "stream",
     "text": [
      "1\n",
      "torch.Size([2])\n"
     ]
    }
   ],
   "source": [
    "print(vector.ndim)\n",
    "print(vector.shape)"
   ]
  },
  {
   "cell_type": "markdown",
   "metadata": {},
   "source": [
    "### MATRIX"
   ]
  },
  {
   "cell_type": "code",
   "execution_count": 7,
   "metadata": {},
   "outputs": [
    {
     "data": {
      "text/plain": [
       "tensor([[1, 2],\n",
       "        [3, 4]])"
      ]
     },
     "execution_count": 7,
     "metadata": {},
     "output_type": "execute_result"
    }
   ],
   "source": [
    "MATRIX = torch.tensor([[1,2],[3,4]])\n",
    "MATRIX"
   ]
  },
  {
   "cell_type": "code",
   "execution_count": 8,
   "metadata": {},
   "outputs": [
    {
     "name": "stdout",
     "output_type": "stream",
     "text": [
      "2\n",
      "torch.Size([2, 2])\n"
     ]
    }
   ],
   "source": [
    "print(MATRIX.ndim)\n",
    "print(MATRIX.shape)"
   ]
  },
  {
   "cell_type": "markdown",
   "metadata": {},
   "source": [
    "### Tensor"
   ]
  },
  {
   "cell_type": "code",
   "execution_count": 9,
   "metadata": {},
   "outputs": [
    {
     "name": "stdout",
     "output_type": "stream",
     "text": [
      "tensor([[[1, 2, 3],\n",
      "         [4, 5, 6],\n",
      "         [7, 8, 9]]])\n",
      "3\n",
      "torch.Size([1, 3, 3])\n"
     ]
    }
   ],
   "source": [
    "TENSOR = torch.tensor([[[1,2,3],[4,5,6],[7,8,9]]])\n",
    "print(TENSOR)\n",
    "print(TENSOR.ndim)\n",
    "print(TENSOR.shape)"
   ]
  },
  {
   "cell_type": "markdown",
   "metadata": {},
   "source": [
    "### Random Tensors"
   ]
  },
  {
   "cell_type": "markdown",
   "metadata": {},
   "source": [
    "Why random tensors?\n",
    "\n",
    "Random tensors are important because the way many neural network learn is that they start with tensors full of random numbers and then adjust those random numbers to better represent the data\n",
    "\n",
    "`Start with random numbers -> look at data -> update random numbers ->look at data -> update random numbers`"
   ]
  },
  {
   "cell_type": "code",
   "execution_count": 10,
   "metadata": {},
   "outputs": [
    {
     "data": {
      "text/plain": [
       "tensor([[0.2528, 0.5426, 0.9170, 0.4929],\n",
       "        [0.2680, 0.8803, 0.4966, 0.1896],\n",
       "        [0.4287, 0.5366, 0.8964, 0.3721]])"
      ]
     },
     "execution_count": 10,
     "metadata": {},
     "output_type": "execute_result"
    }
   ],
   "source": [
    "#create a random tensors of size (3,4)\n",
    "\n",
    "random_tensor = torch.rand(3,4)\n",
    "random_tensor"
   ]
  },
  {
   "cell_type": "code",
   "execution_count": 11,
   "metadata": {},
   "outputs": [
    {
     "data": {
      "text/plain": [
       "(tensor([[[0.1247, 0.1268, 0.4548,  ..., 0.8467, 0.1317, 0.3091],\n",
       "          [0.1705, 0.1210, 0.0304,  ..., 0.6618, 0.1595, 0.6966],\n",
       "          [0.9642, 0.5009, 0.5330,  ..., 0.0101, 0.7593, 0.4500],\n",
       "          ...,\n",
       "          [0.3311, 0.4599, 0.0057,  ..., 0.8361, 0.4290, 0.2294],\n",
       "          [0.9006, 0.1077, 0.9066,  ..., 0.9922, 0.7991, 0.4940],\n",
       "          [0.4178, 0.8699, 0.8969,  ..., 0.1312, 0.5756, 0.1825]],\n",
       " \n",
       "         [[0.2305, 0.8898, 0.1126,  ..., 0.4450, 0.4753, 0.3440],\n",
       "          [0.8471, 0.7993, 0.4827,  ..., 0.4897, 0.1314, 0.4755],\n",
       "          [0.7852, 0.7395, 0.2421,  ..., 0.3435, 0.5295, 0.9541],\n",
       "          ...,\n",
       "          [0.2529, 0.2202, 0.3198,  ..., 0.2494, 0.4161, 0.7927],\n",
       "          [0.8731, 0.5762, 0.0758,  ..., 0.9935, 0.0889, 0.6626],\n",
       "          [0.4263, 0.3962, 0.3388,  ..., 0.1045, 0.6404, 0.3288]],\n",
       " \n",
       "         [[0.2891, 0.6762, 0.0530,  ..., 0.6277, 0.4623, 0.7298],\n",
       "          [0.3441, 0.8908, 0.5025,  ..., 0.2644, 0.4042, 0.5142],\n",
       "          [0.6949, 0.3049, 0.6819,  ..., 0.6583, 0.3729, 0.6581],\n",
       "          ...,\n",
       "          [0.5120, 0.7784, 0.0529,  ..., 0.2409, 0.0840, 0.5896],\n",
       "          [0.9241, 0.1811, 0.0830,  ..., 0.0603, 0.1399, 0.3140],\n",
       "          [0.6871, 0.8486, 0.8563,  ..., 0.1066, 0.0444, 0.6583]]]),\n",
       " 3)"
      ]
     },
     "execution_count": 11,
     "metadata": {},
     "output_type": "execute_result"
    }
   ],
   "source": [
    "#create a random tensor with similar shape to as image tensor\n",
    "tensor_with_image_shape = torch.rand(size=(3,28,28)) # color chennel, height, width ,size parameter is optional\n",
    "tensor_with_image_shape,tensor_with_image_shape.ndim"
   ]
  },
  {
   "cell_type": "markdown",
   "metadata": {},
   "source": [
    "### Zeroes and Ones"
   ]
  },
  {
   "cell_type": "code",
   "execution_count": 12,
   "metadata": {},
   "outputs": [
    {
     "data": {
      "text/plain": [
       "tensor([[0., 0., 0., 0.],\n",
       "        [0., 0., 0., 0.],\n",
       "        [0., 0., 0., 0.]])"
      ]
     },
     "execution_count": 12,
     "metadata": {},
     "output_type": "execute_result"
    }
   ],
   "source": [
    "#tensor containing all zeroes and also used as mask\n",
    "zeros = torch.zeros(size=(3,4))\n",
    "zeros"
   ]
  },
  {
   "cell_type": "code",
   "execution_count": 13,
   "metadata": {},
   "outputs": [
    {
     "data": {
      "text/plain": [
       "tensor([[0., 0., 0., 0.],\n",
       "        [0., 0., 0., 0.],\n",
       "        [0., 0., 0., 0.]])"
      ]
     },
     "execution_count": 13,
     "metadata": {},
     "output_type": "execute_result"
    }
   ],
   "source": [
    "#mask using\n",
    "rt = torch.rand(size=(3,4))\n",
    "ft = rt*zeros\n",
    "ft"
   ]
  },
  {
   "cell_type": "code",
   "execution_count": 14,
   "metadata": {},
   "outputs": [
    {
     "data": {
      "text/plain": [
       "tensor([[1., 1., 1., 1., 1.],\n",
       "        [1., 1., 1., 1., 1.],\n",
       "        [1., 1., 1., 1., 1.],\n",
       "        [1., 1., 1., 1., 1.]])"
      ]
     },
     "execution_count": 14,
     "metadata": {},
     "output_type": "execute_result"
    }
   ],
   "source": [
    "ones = torch.ones(size=(4,5))\n",
    "ones"
   ]
  },
  {
   "cell_type": "code",
   "execution_count": 15,
   "metadata": {},
   "outputs": [
    {
     "name": "stdout",
     "output_type": "stream",
     "text": [
      "torch.float32\n",
      "torch.float32\n"
     ]
    }
   ],
   "source": [
    "print(zeros.dtype)\n",
    "print(ones.dtype)\n"
   ]
  },
  {
   "cell_type": "markdown",
   "metadata": {},
   "source": [
    "### Creating a tensor range and tensor like"
   ]
  },
  {
   "cell_type": "code",
   "execution_count": 16,
   "metadata": {},
   "outputs": [
    {
     "data": {
      "text/plain": [
       "tensor([1, 3, 5, 7, 9])"
      ]
     },
     "execution_count": 16,
     "metadata": {},
     "output_type": "execute_result"
    }
   ],
   "source": [
    "tensor_with_range = torch.arange(start=1,end=11,step=2)\n",
    "tensor_with_range"
   ]
  },
  {
   "cell_type": "code",
   "execution_count": 17,
   "metadata": {},
   "outputs": [
    {
     "data": {
      "text/plain": [
       "tensor([1, 1, 1, 1, 1])"
      ]
     },
     "execution_count": 17,
     "metadata": {},
     "output_type": "execute_result"
    }
   ],
   "source": [
    "#tensor like\n",
    "new_tensor = torch.ones_like(input=tensor_with_range) #zeros like\n",
    "new_tensor"
   ]
  },
  {
   "cell_type": "markdown",
   "metadata": {},
   "source": [
    "### tensor datatype"
   ]
  },
  {
   "cell_type": "markdown",
   "metadata": {},
   "source": [
    "<b>Note</b> : Tensor datatypes is one of the 3 big errors you'll run into with pytorch and deep learning\n",
    "\n",
    "<ol>\n",
    "<li>Tensors not right datatype</li>\n",
    "<li>Tensors not right shape</li>\n",
    "<li>Tensors not on the right device</li>\n",
    "</ol>"
   ]
  },
  {
   "cell_type": "code",
   "execution_count": 18,
   "metadata": {},
   "outputs": [
    {
     "data": {
      "text/plain": [
       "torch.float32"
      ]
     },
     "execution_count": 18,
     "metadata": {},
     "output_type": "execute_result"
    }
   ],
   "source": [
    "#float 32 tensor\n",
    "# by default the datatype of each tensor created is float32\n",
    "#32 and 16 is about precision\n",
    "float_32_tensor = torch.tensor([1.0,2.0,3.0],\n",
    "                               dtype=None, # what datatype is the tensor (e.g. float32 or float16)\n",
    "                               device=None, # what device is your tensor on\n",
    "                               requires_grad=False # whether or not to track gradients with this tensors operations\n",
    "                               ) \n",
    "float_32_tensor.dtype"
   ]
  },
  {
   "cell_type": "code",
   "execution_count": 19,
   "metadata": {},
   "outputs": [],
   "source": [
    "float_16_tensor = float_32_tensor.type(torch.float16)"
   ]
  },
  {
   "cell_type": "code",
   "execution_count": 20,
   "metadata": {},
   "outputs": [
    {
     "data": {
      "text/plain": [
       "tensor([1., 2., 3.], dtype=torch.float16)"
      ]
     },
     "execution_count": 20,
     "metadata": {},
     "output_type": "execute_result"
    }
   ],
   "source": [
    "float_16_tensor"
   ]
  },
  {
   "cell_type": "code",
   "execution_count": 21,
   "metadata": {},
   "outputs": [
    {
     "data": {
      "text/plain": [
       "tensor([1., 4., 9.])"
      ]
     },
     "execution_count": 21,
     "metadata": {},
     "output_type": "execute_result"
    }
   ],
   "source": [
    "float_16_tensor*float_32_tensor"
   ]
  },
  {
   "cell_type": "markdown",
   "metadata": {},
   "source": [
    "### Getting information from tensors\n",
    "<ol>\n",
    "<li>Tensors not right datatype - to do get datatype from a tensor, can use `tensor.dtype`</li>\n",
    "<li>Tensors not right shape - to get shape from a tensor, can use `tensor.shape`</li>\n",
    "<li>Tensors not on the right device - to get device from a tensor, can use `tensor.device`</li>\n",
    "</ol>"
   ]
  },
  {
   "cell_type": "code",
   "execution_count": 22,
   "metadata": {},
   "outputs": [
    {
     "name": "stdout",
     "output_type": "stream",
     "text": [
      "tensor([1, 2, 3])\n",
      "datatype of the tensor is torch.int64\n",
      "the device on which the tensor is : cpu\n",
      "the shape of the tensor is : torch.Size([3])\n"
     ]
    }
   ],
   "source": [
    "some_tensor = torch.tensor([1,2,3])\n",
    "print(some_tensor)\n",
    "print(f\"datatype of the tensor is {some_tensor.dtype}\")\n",
    "print(f\"the device on which the tensor is : {some_tensor.device}\")\n",
    "print(f\"the shape of the tensor is : {some_tensor.shape}\")"
   ]
  },
  {
   "cell_type": "markdown",
   "metadata": {},
   "source": [
    "### Manipulating tensors (tensor operation)\n",
    "\n",
    "Tensor operation includes:\n",
    "<ul>\n",
    "<li>Addition</li>\n",
    "<li>Subtraction</li>\n",
    "<li>Multiplication (element wise)</li>\n",
    "<li>Division</li>\n",
    "<li>Matrix multiplication</li>\n",
    "</ul>"
   ]
  },
  {
   "cell_type": "code",
   "execution_count": 23,
   "metadata": {},
   "outputs": [
    {
     "data": {
      "text/plain": [
       "tensor([-9, -8, -7])"
      ]
     },
     "execution_count": 23,
     "metadata": {},
     "output_type": "execute_result"
    }
   ],
   "source": [
    "#Addition, subtraction, multiplication, division\n",
    "tensor = torch.tensor([1,2,3])\n",
    "tensor = tensor - 10\n",
    "tensor"
   ]
  },
  {
   "cell_type": "code",
   "execution_count": 24,
   "metadata": {},
   "outputs": [
    {
     "data": {
      "text/plain": [
       "tensor([-14, -13, -12])"
      ]
     },
     "execution_count": 24,
     "metadata": {},
     "output_type": "execute_result"
    }
   ],
   "source": [
    "#using in built function present in torch library mul,sub,mul,div \n",
    "tensor = torch.sub(tensor,5)\n",
    "tensor"
   ]
  },
  {
   "cell_type": "markdown",
   "metadata": {},
   "source": [
    "### Matrix Multiplication\n",
    "\n",
    "two main ways of performing multiplication in neural networks and deep learning \n",
    "1. Element wise multiplication\n",
    "2. Matrix multiplication (dot product)"
   ]
  },
  {
   "cell_type": "code",
   "execution_count": 25,
   "metadata": {},
   "outputs": [
    {
     "data": {
      "text/plain": [
       "tensor([1, 2, 3])"
      ]
     },
     "execution_count": 25,
     "metadata": {},
     "output_type": "execute_result"
    }
   ],
   "source": [
    "tensor =  torch.tensor([1,2,3])\n",
    "tensor"
   ]
  },
  {
   "cell_type": "code",
   "execution_count": 26,
   "metadata": {},
   "outputs": [
    {
     "name": "stdout",
     "output_type": "stream",
     "text": [
      "normal multiplication : tensor([ 4, 10, 18])\n",
      "with matrix multiplication : 32\n"
     ]
    }
   ],
   "source": [
    "t1 = torch.tensor([1,2,3])\n",
    "t2 = torch.tensor([4,5,6])\n",
    "print(f\"normal multiplication : {t1*t2}\")\n",
    "print(f\"with matrix multiplication : {torch.matmul(t1,t2)}\") # it takes very less time to execute with comparison of normal multiplication\n",
    "#here writing mm would also be fine it's an alias of matmul"
   ]
  },
  {
   "cell_type": "markdown",
   "metadata": {},
   "source": [
    "<p style=\"color:green\">when two matrix are multiplied the main condition is that the inner dimension of them should be equal and resultant matrix will be of outer dimension.\n",
    "that is why the concept of transposing a matrix will be in picture.</p>\n",
    "Just visualize,visualize,visualize"
   ]
  },
  {
   "cell_type": "code",
   "execution_count": 27,
   "metadata": {},
   "outputs": [
    {
     "name": "stdout",
     "output_type": "stream",
     "text": [
      "tensor([[0.1649, 0.8245, 0.3910],\n",
      "        [0.8688, 0.8200, 0.8884]])\n",
      "tensor([[0.4307, 0.6399, 0.7287],\n",
      "        [0.5061, 0.7511, 0.0276]])\n",
      "tensor([[0.4307, 0.5061],\n",
      "        [0.6399, 0.7511],\n",
      "        [0.7287, 0.0276]])\n",
      "tensor([[0.8836, 0.7135],\n",
      "        [1.5463, 1.0802]])\n",
      "torch.Size([2, 3])\n",
      "torch.Size([2, 3])\n",
      "torch.Size([3, 2])\n"
     ]
    }
   ],
   "source": [
    "tensor_a = torch.rand(size=(2,3))\n",
    "tensor_b = torch.rand(size=(2,3))\n",
    "print(tensor_a)\n",
    "print(tensor_b)\n",
    "print(tensor_b.T)\n",
    "print(torch.mm(tensor_a,tensor_b.T))\n",
    "\n",
    "print(tensor_a.shape)\n",
    "print(tensor_b.shape)\n",
    "print(tensor_b.T.shape)\n"
   ]
  },
  {
   "cell_type": "markdown",
   "metadata": {},
   "source": [
    "### finding the min,max,mean,sum, etc (tensor aggregation)"
   ]
  },
  {
   "cell_type": "code",
   "execution_count": 28,
   "metadata": {},
   "outputs": [
    {
     "data": {
      "text/plain": [
       "tensor([ 1,  6, 11, 16, 21, 26, 31, 36, 41, 46])"
      ]
     },
     "execution_count": 28,
     "metadata": {},
     "output_type": "execute_result"
    }
   ],
   "source": [
    "#creating a tensor\n",
    "t = torch.arange(start=1,end=50,step=5)\n",
    "t"
   ]
  },
  {
   "cell_type": "code",
   "execution_count": 29,
   "metadata": {},
   "outputs": [
    {
     "data": {
      "text/plain": [
       "(tensor(1), tensor(46))"
      ]
     },
     "execution_count": 29,
     "metadata": {},
     "output_type": "execute_result"
    }
   ],
   "source": [
    "torch.min(t),torch.max(t)\n",
    "#or\n",
    "t.min(),t.max()"
   ]
  },
  {
   "cell_type": "code",
   "execution_count": 30,
   "metadata": {},
   "outputs": [
    {
     "data": {
      "text/plain": [
       "tensor(23.5000)"
      ]
     },
     "execution_count": 30,
     "metadata": {},
     "output_type": "execute_result"
    }
   ],
   "source": [
    "#here torch.mean() function requires a tensor of float32 datatype to work but the datatype of \"t\" is Long here\n",
    "# t.mean()\n",
    "t.type(torch.float32).mean()"
   ]
  },
  {
   "cell_type": "markdown",
   "metadata": {},
   "source": [
    "### find the positional min and max"
   ]
  },
  {
   "cell_type": "code",
   "execution_count": 31,
   "metadata": {},
   "outputs": [
    {
     "data": {
      "text/plain": [
       "tensor([ 1,  6, 11, 16, 21, 26, 31, 36, 41, 46])"
      ]
     },
     "execution_count": 31,
     "metadata": {},
     "output_type": "execute_result"
    }
   ],
   "source": [
    "t = torch.arange(start=1,end=50,step=5)\n",
    "t"
   ]
  },
  {
   "cell_type": "code",
   "execution_count": 32,
   "metadata": {},
   "outputs": [
    {
     "data": {
      "text/plain": [
       "(tensor(9), tensor(0))"
      ]
     },
     "execution_count": 32,
     "metadata": {},
     "output_type": "execute_result"
    }
   ],
   "source": [
    "t.argmax(),t.argmin()\n",
    "#or\n",
    "torch.argmax(t),torch.argmin(t)"
   ]
  },
  {
   "cell_type": "markdown",
   "metadata": {},
   "source": [
    "### Reshaping, stacking, squeezing and unsqueezing tensors\n",
    "\n",
    "<ul>\n",
    "<li><b>Reshaping</b> reshapes an input tensor to a defined shape</li>\n",
    "<li><b>View</b> Returns a view of an input tensor of certain shape but keep the same memory as the original tensor</li>\n",
    "<li><b>Stacking</b> combine multiple tensors on top of each other (vstack) or side by side (hstack)</li>\n",
    "<li><b>Squeeze</b> removes all <code>1</code> dimensions from a tensor</li>\n",
    "<li><b>Unsqueeze</b> add a <code>1</code> dimension to a target tensor</li>\n",
    "<li><b>Permute</b> return a view of the input with dimensions permuted (swapped) in a certain way</li>\n",
    "</ul>"
   ]
  },
  {
   "cell_type": "code",
   "execution_count": 33,
   "metadata": {},
   "outputs": [
    {
     "data": {
      "text/plain": [
       "tensor([1, 2, 3, 4, 5, 6, 7, 8, 9])"
      ]
     },
     "execution_count": 33,
     "metadata": {},
     "output_type": "execute_result"
    }
   ],
   "source": [
    "x= torch.arange(1,10,1)\n",
    "x"
   ]
  },
  {
   "cell_type": "code",
   "execution_count": 34,
   "metadata": {},
   "outputs": [
    {
     "name": "stdout",
     "output_type": "stream",
     "text": [
      "torch.Size([9])\n",
      "tensor([[1, 2, 3],\n",
      "        [4, 5, 6],\n",
      "        [7, 8, 9]])\n"
     ]
    }
   ],
   "source": [
    "#reshaping takes place only when the multiplication of reshaping dimension equals to number of elements \n",
    "print(x.shape)\n",
    "x_reshaped = x.reshape(3,3) #possibilities (1,9),(9,1)\n",
    "print(x_reshaped)"
   ]
  },
  {
   "cell_type": "code",
   "execution_count": 35,
   "metadata": {},
   "outputs": [
    {
     "name": "stdout",
     "output_type": "stream",
     "text": [
      "tensor([[1, 2, 3],\n",
      "        [4, 5, 6],\n",
      "        [7, 8, 9]])\n",
      "tensor([1, 2, 3, 4, 5, 6, 7, 8, 9])\n"
     ]
    }
   ],
   "source": [
    "#change the view\n",
    "z = x.view(3,3)\n",
    "print(z)\n",
    "print(x)"
   ]
  },
  {
   "cell_type": "code",
   "execution_count": 36,
   "metadata": {},
   "outputs": [
    {
     "name": "stdout",
     "output_type": "stream",
     "text": [
      "tensor([[1, 2, 3],\n",
      "        [4, 3, 6],\n",
      "        [7, 8, 9]])\n",
      "tensor([1, 2, 3, 4, 3, 6, 7, 8, 9])\n"
     ]
    }
   ],
   "source": [
    "#changes z changes x (because a view of a tensor shares the same memory as the original input)\n",
    "z[1,1]=3\n",
    "print(z)\n",
    "print(x)"
   ]
  },
  {
   "cell_type": "code",
   "execution_count": 37,
   "metadata": {},
   "outputs": [
    {
     "name": "stdout",
     "output_type": "stream",
     "text": [
      "tensor([[0.0904, 0.3827, 0.2057, 0.1317],\n",
      "        [0.5649, 0.4151, 0.6709, 0.0090],\n",
      "        [0.9112, 0.6689, 0.7902, 0.9878]])\n",
      "t reshaped :  tensor([[[0.0904, 0.3827, 0.2057, 0.1317],\n",
      "         [0.5649, 0.4151, 0.6709, 0.0090],\n",
      "         [0.9112, 0.6689, 0.7902, 0.9878]]])\n",
      "torch.Size([1, 3, 4])\n",
      "after applying the squeeze function shape of tensor would be : torch.Size([3, 4])\n"
     ]
    }
   ],
   "source": [
    "#torch.squeeze() - removes all single dimension from a target tensor\n",
    "t = torch.rand(size=(3,4))\n",
    "print(t)\n",
    "t = t.reshape(1,3,4)\n",
    "print(\"t reshaped : \",t)\n",
    "\n",
    "print(t.shape)\n",
    "t = t.squeeze()\n",
    "print(f\"after applying the squeeze function shape of tensor would be : {t.shape}\") \n"
   ]
  },
  {
   "cell_type": "code",
   "execution_count": 38,
   "metadata": {},
   "outputs": [
    {
     "name": "stdout",
     "output_type": "stream",
     "text": [
      "previous target : tensor([[0.0904, 0.3827, 0.2057, 0.1317],\n",
      "        [0.5649, 0.4151, 0.6709, 0.0090],\n",
      "        [0.9112, 0.6689, 0.7902, 0.9878]])\n",
      "previous sahpe : torch.Size([3, 4])\n",
      "\n",
      "new tensor : tensor([[[0.0904],\n",
      "         [0.3827],\n",
      "         [0.2057],\n",
      "         [0.1317]],\n",
      "\n",
      "        [[0.5649],\n",
      "         [0.4151],\n",
      "         [0.6709],\n",
      "         [0.0090]],\n",
      "\n",
      "        [[0.9112],\n",
      "         [0.6689],\n",
      "         [0.7902],\n",
      "         [0.9878]]])\n",
      "new tensor shape : torch.Size([3, 4, 1])\n"
     ]
    }
   ],
   "source": [
    "#torch.unsqueeze() - adds a single dimension to a target tensor at a specific dim\n",
    "print(f\"previous target : {t}\")\n",
    "print(f\"previous sahpe : {t.shape}\")\n",
    "\n",
    "#add an extra dimension with unsqueeze\n",
    "t = t.unsqueeze(dim=2)\n",
    "print(f\"\\nnew tensor : {t}\")\n",
    "print(f\"new tensor shape : {t.shape}\")\n"
   ]
  },
  {
   "cell_type": "code",
   "execution_count": 39,
   "metadata": {},
   "outputs": [
    {
     "name": "stdout",
     "output_type": "stream",
     "text": [
      "torch.Size([224, 224, 3])\n",
      "torch.Size([3, 224, 224])\n"
     ]
    }
   ],
   "source": [
    "#torch.permute - rearranges the dimensions of a target tensor in a specified order \n",
    "#image matrix would be the best example here\n",
    "\n",
    "image = torch.rand(size=(224,224,3))\n",
    "print(image.size())\n",
    "\n",
    "image_permuted = torch.permute(image,(2,0,1)) # it indicates the dimension present in main tensor\n",
    "print(image_permuted.size())\n"
   ]
  },
  {
   "cell_type": "code",
   "execution_count": 40,
   "metadata": {},
   "outputs": [
    {
     "data": {
      "text/plain": [
       "tensor(2127.)"
      ]
     },
     "execution_count": 40,
     "metadata": {},
     "output_type": "execute_result"
    }
   ],
   "source": [
    "image[0,0,0] = 2127\n",
    "image_permuted[0,0,0]"
   ]
  },
  {
   "cell_type": "code",
   "execution_count": 41,
   "metadata": {},
   "outputs": [
    {
     "name": "stdout",
     "output_type": "stream",
     "text": [
      "tensor([[1, 2, 3, 4, 3, 6, 7, 8, 9],\n",
      "        [1, 2, 3, 4, 3, 6, 7, 8, 9],\n",
      "        [1, 2, 3, 4, 3, 6, 7, 8, 9],\n",
      "        [1, 2, 3, 4, 3, 6, 7, 8, 9]])\n",
      "tensor([[1, 1, 1, 1],\n",
      "        [2, 2, 2, 2],\n",
      "        [3, 3, 3, 3],\n",
      "        [4, 4, 4, 4],\n",
      "        [3, 3, 3, 3],\n",
      "        [6, 6, 6, 6],\n",
      "        [7, 7, 7, 7],\n",
      "        [8, 8, 8, 8],\n",
      "        [9, 9, 9, 9]])\n"
     ]
    }
   ],
   "source": [
    "x_stacked = torch.stack([x,x,x,x],dim=0)\n",
    "print(x_stacked)\n",
    "x_stacked = torch.stack([x,x,x,x],dim=1)\n",
    "print(x_stacked)"
   ]
  },
  {
   "cell_type": "code",
   "execution_count": 42,
   "metadata": {},
   "outputs": [
    {
     "data": {
      "text/plain": [
       "tensor([1, 2, 3, 4, 3, 6, 7, 8, 9, 1, 2, 3, 4, 3, 6, 7, 8, 9, 1, 2, 3, 4, 3, 6,\n",
       "        7, 8, 9, 1, 2, 3, 4, 3, 6, 7, 8, 9])"
      ]
     },
     "execution_count": 42,
     "metadata": {},
     "output_type": "execute_result"
    }
   ],
   "source": [
    "x_stacked = torch.hstack([x,x,x,x]) #stacking horizontally will take all the element in single dimension of single tensor\n",
    "x_stacked"
   ]
  },
  {
   "cell_type": "markdown",
   "metadata": {},
   "source": [
    "### Indexing (selecting data from tensors)\n",
    "\n",
    "#### Indexing with PyTorch is similar ro indexing with NumPy\n"
   ]
  },
  {
   "cell_type": "code",
   "execution_count": 43,
   "metadata": {},
   "outputs": [
    {
     "data": {
      "text/plain": [
       "(tensor([[[1, 2, 3],\n",
       "          [4, 5, 6],\n",
       "          [7, 8, 9]]]),\n",
       " torch.Size([1, 3, 3]))"
      ]
     },
     "execution_count": 43,
     "metadata": {},
     "output_type": "execute_result"
    }
   ],
   "source": [
    "x= torch.arange(1,10).reshape(1,3,3)\n",
    "x, x.shape"
   ]
  },
  {
   "cell_type": "code",
   "execution_count": 44,
   "metadata": {},
   "outputs": [
    {
     "name": "stdout",
     "output_type": "stream",
     "text": [
      "tensor([[1, 2, 3],\n",
      "        [4, 5, 6],\n",
      "        [7, 8, 9]])\n",
      "tensor([1, 2, 3])\n",
      "1\n"
     ]
    }
   ],
   "source": [
    "# let's index on our new tensor\n",
    "print(x[0])\n",
    "print(x[0][0])   # can also be written as [0,0]\n",
    "print(x[0][0][0].item()) # [0,0,0]"
   ]
  },
  {
   "cell_type": "code",
   "execution_count": 45,
   "metadata": {},
   "outputs": [
    {
     "data": {
      "text/plain": [
       "tensor([3, 6, 9])"
      ]
     },
     "execution_count": 45,
     "metadata": {},
     "output_type": "execute_result"
    }
   ],
   "source": [
    "x[0,:,2]\n"
   ]
  },
  {
   "cell_type": "code",
   "execution_count": 91,
   "metadata": {},
   "outputs": [
    {
     "name": "stdout",
     "output_type": "stream",
     "text": [
      "1 5 9 "
     ]
    }
   ],
   "source": [
    "for i in range(len(x[0])):\n",
    "    print(x[:,i,i].item(),end=\" \")"
   ]
  },
  {
   "cell_type": "markdown",
   "metadata": {},
   "source": [
    "### PyTorch tensors & NumPy\n",
    "##### Numpy is a popular scentific Python numeric computing library.\n",
    "##### And because of this, PyTorch  has functionality to interect with it.\n",
    "\n",
    "<ul>\n",
    "<li>Data in NumPy, want in PyTorch tensor -> <code>torch.from_numpy(ndarray)</code></li>\n",
    "<li>PyTorch tensor -> NumPy-> <code>torch.Tensor.numpy()</code></li>\n",
    "</ul>"
   ]
  },
  {
   "cell_type": "code",
   "execution_count": 92,
   "metadata": {},
   "outputs": [],
   "source": [
    "import numpy"
   ]
  },
  {
   "cell_type": "code",
   "execution_count": 93,
   "metadata": {},
   "outputs": [
    {
     "data": {
      "text/plain": [
       "(array([1., 2., 3., 4., 5., 6., 7.]),\n",
       " tensor([1., 2., 3., 4., 5., 6., 7.], dtype=torch.float64))"
      ]
     },
     "execution_count": 93,
     "metadata": {},
     "output_type": "execute_result"
    }
   ],
   "source": [
    "#numpy array to tensor\n",
    "array = np.arange(1.0,8.0)\n",
    "tensor = torch.from_numpy(array) # here pytorch reflects numpy's default datatype unless specified  \n",
    " \n",
    "array,tensor\n",
    " "
   ]
  },
  {
   "cell_type": "code",
   "execution_count": 97,
   "metadata": {},
   "outputs": [
    {
     "data": {
      "text/plain": [
       "(dtype('float64'), torch.float64)"
      ]
     },
     "execution_count": 97,
     "metadata": {},
     "output_type": "execute_result"
    }
   ],
   "source": [
    "array.dtype,tensor.dtype\n"
   ]
  },
  {
   "cell_type": "markdown",
   "metadata": {},
   "source": [
    "Note : numpy_array->float64, tensor->float32"
   ]
  },
  {
   "cell_type": "code",
   "execution_count": 96,
   "metadata": {},
   "outputs": [
    {
     "data": {
      "text/plain": [
       "torch.float32"
      ]
     },
     "execution_count": 96,
     "metadata": {},
     "output_type": "execute_result"
    }
   ],
   "source": [
    "torch.arange(1.0,8.0).dtype"
   ]
  },
  {
   "cell_type": "code",
   "execution_count": 98,
   "metadata": {},
   "outputs": [
    {
     "data": {
      "text/plain": [
       "(array([2., 3., 4., 5., 6., 7., 8.]),\n",
       " tensor([1., 2., 3., 4., 5., 6., 7.], dtype=torch.float64))"
      ]
     },
     "execution_count": 98,
     "metadata": {},
     "output_type": "execute_result"
    }
   ],
   "source": [
    "#change the value of array what will this do to tensor and same process will be done when change the value of tensor and nothing will be done to array\n",
    "array = array + 1\n",
    "array,tensor"
   ]
  },
  {
   "cell_type": "code",
   "execution_count": 99,
   "metadata": {},
   "outputs": [
    {
     "data": {
      "text/plain": [
       "(tensor([1., 1., 1., 1., 1., 1., 1.]),\n",
       " array([1., 1., 1., 1., 1., 1., 1.], dtype=float32))"
      ]
     },
     "execution_count": 99,
     "metadata": {},
     "output_type": "execute_result"
    }
   ],
   "source": [
    "#tensor to numpy array\n",
    "tensor = torch.ones(7)\n",
    "numpy_tensor = tensor.numpy()\n",
    "tensor,numpy_tensor"
   ]
  },
  {
   "cell_type": "markdown",
   "metadata": {},
   "source": [
    "## Reproducibility (trying to take random out of random)\n",
    "\n",
    "In short how a neural network learns: start with random number -> tensor operations -> update random numbers to try and make them better representarions of the data -> again -> again -> again..."
   ]
  },
  {
   "cell_type": "code",
   "execution_count": 46,
   "metadata": {},
   "outputs": [
    {
     "name": "stdout",
     "output_type": "stream",
     "text": [
      "tensor([[0.0296, 0.4118, 0.8883, 0.8545],\n",
      "        [0.1284, 0.8238, 0.5979, 0.5093],\n",
      "        [0.0207, 0.2533, 0.2998, 0.3486]])\n",
      "tensor([[0.1747, 0.0673, 0.8090, 0.1598],\n",
      "        [0.6136, 0.5560, 0.4306, 0.6005],\n",
      "        [0.2915, 0.5747, 0.9349, 0.5253]])\n",
      "tensor([[False, False, False, False],\n",
      "        [False, False, False, False],\n",
      "        [False, False, False, False]])\n"
     ]
    }
   ],
   "source": [
    "t1 = torch.rand(size=(3,4))\n",
    "t2 = torch.rand(size=(3,4))\n",
    "\n",
    "print(t1)\n",
    "print(t2)\n",
    "print(t1 == t2)"
   ]
  },
  {
   "cell_type": "code",
   "execution_count": 49,
   "metadata": {},
   "outputs": [
    {
     "name": "stdout",
     "output_type": "stream",
     "text": [
      "tensor([[0.8823, 0.9150, 0.3829, 0.9593],\n",
      "        [0.3904, 0.6009, 0.2566, 0.7936],\n",
      "        [0.9408, 0.1332, 0.9346, 0.5936]])\n",
      "tensor([[0.8823, 0.9150, 0.3829, 0.9593],\n",
      "        [0.3904, 0.6009, 0.2566, 0.7936],\n",
      "        [0.9408, 0.1332, 0.9346, 0.5936]])\n",
      "tensor([[True, True, True, True],\n",
      "        [True, True, True, True],\n",
      "        [True, True, True, True]])\n"
     ]
    }
   ],
   "source": [
    "#manual seed will create random but reproducable tensors \n",
    "#agenda of random seed is to use same random numbers everytime while executing the code \n",
    "#f you want same random number in new defined tensor then you have to write code(torch.manual_seed()) before defining a new t ensor \n",
    "random_seed = 42\n",
    "\n",
    "torch.manual_seed(random_seed)\n",
    "t1 = torch.rand(size=(3,4))\n",
    "torch.manual_seed(random_seed)\n",
    "t2 = torch.rand(size=(3,4))\n",
    "\n",
    "print(t1)\n",
    "print(t2)\n",
    "print(t1 == t2)"
   ]
  },
  {
   "cell_type": "markdown",
   "metadata": {},
   "source": [
    "## GPUs - makes computing faster\n",
    "fast computation on numbers, thanks to CUDA + NVIDIA hardware + pytorch working behind the scene to make everything hunky dory(good).\n"
   ]
  },
  {
   "cell_type": "code",
   "execution_count": 51,
   "metadata": {},
   "outputs": [
    {
     "data": {
      "text/plain": [
       "False"
      ]
     },
     "execution_count": 51,
     "metadata": {},
     "output_type": "execute_result"
    }
   ],
   "source": [
    "#check for gpu access with pytorch\n",
    "torch.cuda.is_available()"
   ]
  },
  {
   "cell_type": "code",
   "execution_count": 53,
   "metadata": {},
   "outputs": [
    {
     "data": {
      "text/plain": [
       "'cpu'"
      ]
     },
     "execution_count": 53,
     "metadata": {},
     "output_type": "execute_result"
    }
   ],
   "source": [
    "#setup device agnostic code \n",
    "device = \"cuda\" if torch.cuda.is_available() else \"cpu\"\n",
    "device\n",
    "#cuda is computation toolkit provided by nvidia, it is for fast computation"
   ]
  },
  {
   "cell_type": "code",
   "execution_count": 55,
   "metadata": {},
   "outputs": [
    {
     "data": {
      "text/plain": [
       "0"
      ]
     },
     "execution_count": 55,
     "metadata": {},
     "output_type": "execute_result"
    }
   ],
   "source": [
    "#count the number of gpus\n",
    "torch.cuda.device_count()"
   ]
  },
  {
   "cell_type": "code",
   "execution_count": null,
   "metadata": {},
   "outputs": [],
   "source": [
    "# taking tansor OR model to gpu\n",
    "# define a device, define a tensor, and take tensor to the device defined \n",
    "device = \"cuda\" if torch.cuda.is_available() else \"cpu\"\n",
    "tensor = torch.rand(size=(1,5))\n",
    "tensor_on_gpu = tensor.to(device)\n",
    "\n",
    "# another simple method of checking weather the tensor is on gpu or cpu is that you can convert tensor to numpy array \n",
    "# If tensor is on GPU, can't transform it to numpy\n",
    "# from that point you can move your tensor to cpu\n",
    "tensor_on_cpu = tensor"
   ]
  },
  {
   "cell_type": "markdown",
   "metadata": {},
   "source": [
    "<code>tensor_on_gpu.numpy() will lead to typeError if tensor_on_gpu is on gpu</code>\n",
    "\n",
    "To fix the GPU tensor with numpy issue, we can first set it to the CPU\n",
    "\n",
    "<code>tensor_on_cpu = tensor_on_gpu.cpu()</code>\n",
    "\n",
    "<code>tensor_on_cpu.numpy()</code> will work fine\n",
    "\n"
   ]
  }
 ],
 "metadata": {
  "kernelspec": {
   "display_name": "Python 3",
   "language": "python",
   "name": "python3"
  },
  "language_info": {
   "codemirror_mode": {
    "name": "ipython",
    "version": 3
   },
   "file_extension": ".py",
   "mimetype": "text/x-python",
   "name": "python",
   "nbconvert_exporter": "python",
   "pygments_lexer": "ipython3",
   "version": "3.10.12"
  }
 },
 "nbformat": 4,
 "nbformat_minor": 2
}
