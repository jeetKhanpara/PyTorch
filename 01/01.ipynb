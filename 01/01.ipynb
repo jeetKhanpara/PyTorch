{
 "cells": [
  {
   "cell_type": "code",
   "execution_count": 2,
   "metadata": {},
   "outputs": [],
   "source": [
    "what_were_covering = {1: \"data (prepare and load)\",\n",
    "    2: \"build model\",\n",
    "    3: \"fitting the model to data (training)\",\n",
    "    4: \"making predictions and evaluating a model (inference)\",\n",
    "    5: \"saving and loading a model\",\n",
    "    6: \"putting it all together\"\n",
    "}"
   ]
  },
  {
   "cell_type": "code",
   "execution_count": 3,
   "metadata": {},
   "outputs": [
    {
     "data": {
      "text/plain": [
       "'2.1.2+cu121'"
      ]
     },
     "execution_count": 3,
     "metadata": {},
     "output_type": "execute_result"
    }
   ],
   "source": [
    "import torch\n",
    "from torch import nn # nn contains all of PyTorch's building blocks for neural networks\n",
    "import matplotlib.pyplot as plt \n",
    "\n",
    "torch.__version__"
   ]
  },
  {
   "cell_type": "markdown",
   "metadata": {},
   "source": [
    "## 1. Data (Preparing and loading)\n",
    " Data can be almost anything... in machine learning\n",
    " <ul>\n",
    " <li>Excel spreadsheet</li>\n",
    " <li>Images of any kind</li>\n",
    " <li>Videos (Youtube has lots of data...)</li>\n",
    " <li>Audio like songs or podcasts</li>\n",
    " <li>DNA</li>\n",
    " <li>Text</li>\n",
    " </ul>\n",
    "\n",
    " Machine learning is a game of two parts:\n",
    "\n",
    " <ol>\n",
    " <li>Get data into a numerical representation</li>\n",
    " <li>Build a model to learn patterns in that numerical representation</li>\n",
    " </ol>\n",
    "\n",
    " we'll use a linear regression formula(y=a+mx) to make a straight line with known parameters."
   ]
  },
  {
   "cell_type": "code",
   "execution_count": 4,
   "metadata": {},
   "outputs": [
    {
     "name": "stdout",
     "output_type": "stream",
     "text": [
      "shape of X before : torch.Size([50])\n",
      "after unsqueezing : torch.Size([50, 1])\n",
      "tensor([[0.0000],\n",
      "        [0.0200],\n",
      "        [0.0400],\n",
      "        [0.0600],\n",
      "        [0.0800],\n",
      "        [0.1000],\n",
      "        [0.1200],\n",
      "        [0.1400],\n",
      "        [0.1600],\n",
      "        [0.1800]])\n",
      "tensor([[0.3000],\n",
      "        [0.3140],\n",
      "        [0.3280],\n",
      "        [0.3420],\n",
      "        [0.3560],\n",
      "        [0.3700],\n",
      "        [0.3840],\n",
      "        [0.3980],\n",
      "        [0.4120],\n",
      "        [0.4260]])\n"
     ]
    }
   ],
   "source": [
    "#creating known parameters\n",
    "weight = 0.7\n",
    "bias = 0.3  \n",
    "\n",
    "#Create\n",
    "start = 0\n",
    "end = 1\n",
    "step = 0.02\n",
    "X = torch.arange(start=start,end=end,step=step)\n",
    "print(f\"shape of X before : {X.shape}\")\n",
    "X = X.unsqueeze(dim=1) # capital x shows that this indicates to tensor\n",
    "print(f\"after unsqueezing : {X.shape}\")\n",
    "#\n",
    "#after unsqueezing : [1,len(X)]\n",
    "y = weight*X + bias # follows linear regression y = mx + b\n",
    "\n",
    "print(X[:10])\n",
    "print(y[:10])"
   ]
  },
  {
   "cell_type": "code",
   "execution_count": 5,
   "metadata": {},
   "outputs": [
    {
     "data": {
      "text/plain": [
       "(50, 50)"
      ]
     },
     "execution_count": 5,
     "metadata": {},
     "output_type": "execute_result"
    }
   ],
   "source": [
    "#here y is label for each X\n",
    "len(X),len(y)"
   ]
  },
  {
   "cell_type": "markdown",
   "metadata": {},
   "source": [
    "### Spliting data into training and test sets (one of the most important concept in machine learning in general)"
   ]
  },
  {
   "cell_type": "markdown",
   "metadata": {},
   "source": [
    "#### Let's create a training and test set with out data"
   ]
  },
  {
   "cell_type": "code",
   "execution_count": 6,
   "metadata": {},
   "outputs": [
    {
     "data": {
      "text/plain": [
       "(40, 10, 40, 10)"
      ]
     },
     "execution_count": 6,
     "metadata": {},
     "output_type": "execute_result"
    }
   ],
   "source": [
    "split_train = int(0.8*len(X))\n",
    "\n",
    "X_train = X[:split_train]\n",
    "X_test = X[split_train:len(X)]\n",
    "\n",
    "y_train = y[:split_train]\n",
    "y_test = y[split_train:len(y)]\n",
    "\n",
    "len(X_train),len(X_test),len(y_train),len(y_test)"
   ]
  },
  {
   "cell_type": "markdown",
   "metadata": {},
   "source": [
    "### Visualize the data"
   ]
  },
  {
   "cell_type": "code",
   "execution_count": 24,
   "metadata": {},
   "outputs": [],
   "source": [
    "def plot_prediction(train_data=X_train,\n",
    "                    train_labels = y_train,\n",
    "                    test_data = X_test,\n",
    "                    test_labels = y_test,\n",
    "                    pridictions = None):\n",
    "    \"\"\" \n",
    "    Plots training data, test data and compares predictions.\n",
    "    \"\"\"\n",
    "    #define the size of the chart\n",
    "    plt.figure(figsize=(5,5))\n",
    "\n",
    "    #plot training data in blue\n",
    "    plt.scatter(train_data,train_labels,c=\"b\",s=5,label=\"training data\")\n",
    "\n",
    "    #plot test data in green\n",
    "    plt.scatter(test_data,test_labels,c=\"g\",s=15,label=\"training data\")\n",
    "\n",
    "    if pridictions is not None:\n",
    "        #plot the predictions as well\n",
    "        plt.scatter(test_data,pridictions,c=\"r\",s=5,label=\"predictions\")\n",
    "\n",
    "    #show the lagend\n",
    "    plt.legend(loc=\"upper left\")\n",
    "        \n",
    "    \n",
    "    "
   ]
  },
  {
   "cell_type": "code",
   "execution_count": 8,
   "metadata": {},
   "outputs": [
    {
     "data": {
      "image/png": "[encoded data removed]",
      "text/plain": [
       "<Figure size 500x500 with 1 Axes>"
      ]
     },
     "metadata": {},
     "output_type": "display_data"
    }
   ],
   "source": [
    "plot_prediction() # blue dots are ideal output"
   ]
  },
  {
   "cell_type": "markdown",
   "metadata": {},
   "source": [
    "## Build Model\n",
    "\n",
    "first PyTorch model!\n",
    "\n",
    "What out model does:\n",
    "<ul>\n",
    "<li>Start with random values ( weights and bias )</li>\n",
    "<li>Look at training data and adjust the random values to better represent ( or get closer to ) the ideal values (the weights and bias values we used to create the data)</li>\n",
    "</ul>\n",
    "\n",
    "How does it do so?\n",
    "\n",
    "Through two main algorithms:\n",
    "<ol>\n",
    "<li>Gradient descent</li>\n",
    "<li>Backpropagation</li>\n",
    "</ol>\n"
   ]
  },
  {
   "cell_type": "code",
   "execution_count": 15,
   "metadata": {},
   "outputs": [],
   "source": [
    "from torch import nn\n",
    "\n",
    "#create linear regression model class\n",
    "#every model in pytorch inherit from nn.module that's why you need to define forward method for overriding purpose\n",
    "\n",
    "\n",
    "class LinearRegressionModel(nn.Module): # almost everything in pytorch inherits from nn.Module\n",
    "    def __init__(self, *args, **kwargs) -> None:\n",
    "        super().__init__(*args, **kwargs)\n",
    "        self.weights = nn.Parameter(torch.randn(1, # <- start with random weight and try to adjust it to the ideal weight\n",
    "                                                requires_grad=True, # <- can this parameter be updated via gradient descent?\n",
    "                                                dtype=torch.float)) # <- PyTorch loves the datatype torch.float32\n",
    "        \n",
    "        self.bias = nn.Parameter(torch.randn(1, # <- start with random bias and try to adjust it to the ideal bias\n",
    "                                             requires_grad=True, # <- can this parameter be updated via gradient descent?\n",
    "                                             dtype=torch.float)) # <- PyTorch loves the datatype torch.float32\n",
    "        \n",
    "        #Forward method to define the computation in the model \n",
    "    def forward(self, x: torch.Tensor) -> torch.Tensor:  # x is input data\n",
    "        return self.weights*x + self.bias # this is the linear regression formula"
   ]
  },
  {
   "cell_type": "markdown",
   "metadata": {},
   "source": [
    "### PyTorch model building essentials\n",
    "\n",
    "<ul>\n",
    "<li><b>torch.nn</b> - contains all of the buildings for computational graphs ( a neural network can be considered a computational graph )</li>\n",
    "<li><b>torch.nn.Parameter</b> - what parameters should out model try and learn, often a  PyTorch layer from torch.nn will set these for us</li>\n",
    "<li><b>torch.nn.Module</b> - The base class for all neural network modules, if you subclass it, you should overwrite forward()</li>\n",
    "<li><b>torch.optim</b> - where the optimizers in PyTorch live, they will help with gradient descent</li>\n",
    "<li><b>def forward()</b> - All nn Module subclasses require you to overwrite forward(), this method defines what happens in the forward computation</li>\n",
    "</ul>"
   ]
  },
  {
   "cell_type": "markdown",
   "metadata": {},
   "source": [
    "### Checking the contents of our PyTorch model\n",
    "\n",
    "we have created the model, let's see what's inside...\n",
    "So we can check our model parameters or what's inside out model using .parameters()"
   ]
  },
  {
   "cell_type": "code",
   "execution_count": 17,
   "metadata": {},
   "outputs": [
    {
     "data": {
      "text/plain": [
       "[Parameter containing:\n",
       " tensor([0.3367], requires_grad=True),\n",
       " Parameter containing:\n",
       " tensor([0.1288], requires_grad=True)]"
      ]
     },
     "execution_count": 17,
     "metadata": {},
     "output_type": "execute_result"
    }
   ],
   "source": [
    "#Create a random seed\n",
    "torch.manual_seed(42)\n",
    "\n",
    "#create an instance of the model ( this is a subclass of nn.Module)\n",
    "model_0 = LinearRegressionModel()\n",
    "\n",
    "#check out the parameters\n",
    "list(model_0.parameters())"
   ]
  },
  {
   "cell_type": "code",
   "execution_count": 18,
   "metadata": {},
   "outputs": [
    {
     "data": {
      "text/plain": [
       "OrderedDict([('weights', tensor([0.3367])), ('bias', tensor([0.1288]))])"
      ]
     },
     "execution_count": 18,
     "metadata": {},
     "output_type": "execute_result"
    }
   ],
   "source": [
    "#listing named parameters\n",
    "model_0.state_dict()\n",
    "# model_0.weights, model_0.bias"
   ]
  },
  {
   "cell_type": "code",
   "execution_count": 19,
   "metadata": {},
   "outputs": [
    {
     "data": {
      "text/plain": [
       "(0.7, 0.3)"
      ]
     },
     "execution_count": 19,
     "metadata": {},
     "output_type": "execute_result"
    }
   ],
   "source": [
    "#listing known parameters\n",
    "weight,bias"
   ]
  },
  {
   "cell_type": "markdown",
   "metadata": {},
   "source": [
    "Here the task is to take the value of named params to near to known params, the closer we get the values the better we will able to predict data in model"
   ]
  },
  {
   "cell_type": "markdown",
   "metadata": {},
   "source": [
    "### Make predictions using <code>torch.inference_mode()</code>\n",
    "To check our model's predictive power, let's see how well it predicts <code>y_test</code> based on <code>x_test</code>\n",
    "When we pass data through our model, it's going to run it through the <code>forward()</code> method."
   ]
  },
  {
   "cell_type": "code",
   "execution_count": 23,
   "metadata": {},
   "outputs": [
    {
     "data": {
      "text/plain": [
       "(tensor([[0.3982],\n",
       "         [0.4049],\n",
       "         [0.4116],\n",
       "         [0.4184],\n",
       "         [0.4251],\n",
       "         [0.4318],\n",
       "         [0.4386],\n",
       "         [0.4453],\n",
       "         [0.4520],\n",
       "         [0.4588]]),\n",
       " tensor([[0.8600],\n",
       "         [0.8740],\n",
       "         [0.8880],\n",
       "         [0.9020],\n",
       "         [0.9160],\n",
       "         [0.9300],\n",
       "         [0.9440],\n",
       "         [0.9580],\n",
       "         [0.9720],\n",
       "         [0.9860]]))"
      ]
     },
     "execution_count": 23,
     "metadata": {},
     "output_type": "execute_result"
    }
   ],
   "source": [
    "# make predictions using model\n",
    "with torch.inference_mode():\n",
    "    y_preds = model_0(X_test)\n",
    "\n",
    "y_preds,y_test"
   ]
  },
  {
   "cell_type": "code",
   "execution_count": 25,
   "metadata": {},
   "outputs": [
    {
     "data": {
      "image/png": "[encoded data removed]",
      "text/plain": [
       "<Figure size 500x500 with 1 Axes>"
      ]
     },
     "metadata": {},
     "output_type": "display_data"
    }
   ],
   "source": [
    "plot_prediction(pridictions=y_preds) "
   ]
  },
  {
   "cell_type": "markdown",
   "metadata": {},
   "source": [
    "## Training this model\n",
    "\n",
    "The whole idea of training is for a model to move from some <i>unknown</i> parameters (these may be random) to some <i>known</i> parameters.\n",
    "\n",
    "or in other words from a poor representation of the data to a bettere representation of the data.\n",
    "\n",
    "One way to measure how poor or how wrong your models predictions are is to use a loss function.\n",
    "\n",
    "<b>Note:</b> Loss function may also be called cost function or criterion in defferent areas. For our case, we're going to refer to it as a loss function.\n",
    "\n",
    "Things we need to train:\n",
    "\n",
    "<b>Loss function: </b> A function to measure how wrong your model's predictions are to the ideal outputs, lower is better.\n",
    "<b>Optimizer: </b> Takes into account the loss of a model and adjusts the model's parameters (w and b in our case) to improve the loss function.\n",
    "\n",
    "And specifically for PyTorch, we need:\n",
    "1. A training loop\n",
    "2. A testing loop"
   ]
  },
  {
   "cell_type": "code",
   "execution_count": null,
   "metadata": {},
   "outputs": [],
   "source": [
    " "
   ]
  }
 ],
 "metadata": {
  "kernelspec": {
   "display_name": "Python 3",
   "language": "python",
   "name": "python3"
  },
  "language_info": {
   "codemirror_mode": {
    "name": "ipython",
    "version": 3
   },
   "file_extension": ".py",
   "mimetype": "text/x-python",
   "name": "python",
   "nbconvert_exporter": "python",
   "pygments_lexer": "ipython3",
   "version": "3.10.12"
  }
 },
 "nbformat": 4,
 "nbformat_minor": 2
}
